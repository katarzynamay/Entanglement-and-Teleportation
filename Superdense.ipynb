{
 "cells": [
  {
   "cell_type": "markdown",
   "id": "9de053ef",
   "metadata": {},
   "source": [
    "# SUPERDENSE CODING\n",
    "\n",
    "**Transmitting classical information with a quantum channel.**\n",
    "\n",
    "An entanglement allows sending two bits via a single qubit."
   ]
  },
  {
   "cell_type": "markdown",
   "id": "7c947be6",
   "metadata": {},
   "source": [
    "**1 qubit + 1 ebit $\\succeq$ 2 bits**\n",
    "\n",
    ">**qubit**: transferring one-qubit quantum system <br />\n",
    "**bit**: transferring one-bit message <br />\n",
    "**ebit**: consuming of bipartite entanglement (contained in a maximally entangled two-qubit state) \n",
    "\n",
    "**??** (But first, Alice and Bob have to share an entanglement, so the overall process involves two-qubit transfers, one in each direction, so what we gain?)"
   ]
  },
  {
   "cell_type": "markdown",
   "id": "39896a44",
   "metadata": {},
   "source": [
    "Alice's qubit\n",
    "\n",
    "$ \\vert A \\rangle = \\vert 0_A \\rangle $ \n",
    "\n",
    "Bob's qubit\n",
    "\n",
    "$ \\vert B \\rangle = \\vert 0_B \\rangle $ \n",
    "\n",
    "The messages from Alice to Bob:\n",
    "\n",
    "00, 01, 10, 11"
   ]
  },
  {
   "cell_type": "markdown",
   "id": "04a0920d",
   "metadata": {},
   "source": [
    "### #1  Generating an EPR Pair\n",
    "\n",
    "EPR pair is created, and this pair is shared by both Alice and Bob\n",
    "\n",
    "$\\vert \\Phi^{00} \\rangle = CX\\big(H \\vert A \\rangle  \\otimes \\vert B \\rangle \\big) $\n",
    "\n",
    "$ H \\vert 0_A \\rangle  \\otimes \\vert 0_B \\rangle = \\frac{1}{\\sqrt{2}} \\big( \\vert 0_A \\rangle + \\vert 1_A \\rangle \\big) \\otimes \\vert 0_B \\rangle = \\frac{1}{\\sqrt{2}} \\big( \\vert 0_A 0_B \\rangle + \\vert 1_A 0_B\\rangle \\big) $\n",
    "\n",
    "$ CX \\frac{1}{\\sqrt{2}} \\big( \\vert 0_A 0_B \\rangle + \\vert 1_A 0_B\\rangle \\big) =  \\frac{1}{\\sqrt{2}} \\big( \\vert 0_A 0_B \\rangle + \\vert 1_A 1_B\\rangle \\big) $ \n",
    "\n",
    "$ \\vert \\Phi^{00} \\rangle =  \\frac{1}{\\sqrt{2}} \\big( \\vert 0_A 0_B \\rangle + \\vert 1_A 1_B\\rangle \\big) $ "
   ]
  },
  {
   "cell_type": "markdown",
   "id": "a7764a53",
   "metadata": {},
   "source": [
    "### #2  Manipulating on Alice's qubit\n",
    "\n",
    "$ \\vert \\Phi^{00} \\rangle = \\frac{1}{\\sqrt{2}} \\big(\\vert 0_A\\rangle \\otimes  \\vert 0_B \\rangle + \\vert 1_A\\rangle \\otimes  \\vert 1_B \\rangle \\big) $\n",
    "\n",
    "$i,j = 0,1 $\n",
    "\n",
    "$$\n",
    "\\sigma_{x} = \n",
    "\\begin{pmatrix}\n",
    "0 & 1\\\\\n",
    "1 & 0\\\\\n",
    "\\end{pmatrix} \n",
    "\n",
    "\\quad\n",
    "\n",
    "\\sigma_{z} = \n",
    "\\begin{pmatrix}\n",
    "1 &  0\\\\\n",
    "0 & -1\\\\\n",
    "\\end{pmatrix} \n",
    "\n",
    "\\quad\n",
    "\n",
    "\\sigma_{x}\\sigma_{z} =\n",
    "\\begin{pmatrix}\n",
    "0 & -1\\\\\n",
    "1 &  0\\\\\n",
    "\\end{pmatrix}\n",
    "\n",
    "\\quad\n",
    "\n",
    "\\sigma_{x}^0 = \\sigma_{z}^0 = \\mathbb{1} =\n",
    "\\begin{pmatrix}\n",
    "1 & 0\\\\\n",
    "0 & 1\\\\\n",
    "\\end{pmatrix}\n",
    "$$\n",
    "\n",
    "$ A_{ij} = (\\sigma_{xA})^j(\\sigma_{zA})^i $\n",
    "\n",
    "<br/>\n",
    "Alice applies the following operations to her qubit, depending on what message she sends to Bob.\n",
    "\n"
   ]
  },
  {
   "cell_type": "markdown",
   "id": "59963e1c",
   "metadata": {},
   "source": [
    "### $00 \\rightarrow  A_{00} \\vert \\Phi^{00} \\rangle$\n",
    "\n",
    "\n",
    "$ A_{00} \\vert \\Phi^{00} \\rangle = \\frac{1}{\\sqrt{2}} \\big( \\mathbb{1} \\vert 0_A\\rangle \\otimes  \\vert 0_B \\rangle + \\mathbb{1} \\vert 1_A\\rangle \\otimes  \\vert 1_B \\rangle \\big) =  \\vert \\Phi^{00} \\rangle $ \n",
    "\n",
    "\n",
    "### $01 \\rightarrow A_{01} \\vert \\Phi^{00} \\rangle$\n",
    "\n",
    "$ A_{01} \\vert \\Phi^{00} \\rangle = \\frac{1}{\\sqrt{2}} \\big( \\sigma_{x} \\vert 0_A\\rangle \\otimes  \\vert 0_B \\rangle + \\sigma_{x} \\vert 1_A\\rangle \\otimes  \\vert 1_B \\rangle \\big) = \\frac{1}{\\sqrt{2}} \\big( \\vert 1_A 0_B \\rangle + \\vert 0_A 1_B\\rangle \\big) = \\vert \\Phi^{01} \\rangle $ \n",
    "\n",
    "### $10 \\rightarrow  A_{10} \\vert \\Phi^{00} \\rangle$\n",
    "\n",
    "$ A_{10} \\vert \\Phi^{00} \\rangle = \\frac{1}{\\sqrt{2}} \\big( \\sigma_{z} \\vert 0_A\\rangle \\otimes  \\vert 0_B \\rangle + \\sigma_{z} \\vert 1_A\\rangle \\otimes  \\vert 1_B \\rangle \\big) = \\frac{1}{\\sqrt{2}} \\big( \\vert 0_A 0_B \\rangle - \\vert 1_A 1_B\\rangle \\big) = \\vert \\Phi^{10} \\rangle $ \n",
    "\n",
    "### $11 \\rightarrow  A_{11} \\vert \\Phi^{00} \\rangle$\n",
    "\n",
    "$ A_{11} \\vert \\Phi^{00} \\rangle = \\frac{1}{\\sqrt{2}} \\big( \\sigma_{x}\\sigma_{z} \\vert 0_A\\rangle \\otimes  \\vert 0_B \\rangle + \\sigma_{x}\\sigma_{z} \\vert 1_A\\rangle \\otimes  \\vert 1_B \\rangle \\big) = \\frac{1}{\\sqrt{2}} \\big( \\vert 1_A 0_B \\rangle - \\vert 0_A 1_B\\rangle \\big) = - \\vert \\Phi^{11} \\rangle $ \n",
    "\n",
    "After applying the quantum gates, **Alice has to send her qubit to Bob** (via **quantum channel**)."
   ]
  },
  {
   "cell_type": "markdown",
   "id": "55c6b76d",
   "metadata": {},
   "source": [
    "### #3  Manipulating on Bob's qubit\n",
    "\n",
    "The Bell measurement can be made in the standard basis if a CNOT gate and an Hadamard gate are applied.\\\n",
    "Bob applies $CX(\\vert A \\rangle, \\vert B \\rangle) \\; H \\vert A \\rangle $ operation to his qubits.\n",
    "\n",
    "$\\vert \\Phi^{00} \\rangle \\xrightarrow {CX(\\vert A \\rangle, \\vert B \\rangle) \\; H \\vert A \\rangle } \\vert 0_A 0_B \\rangle $ \n",
    "\n",
    "$\\vert \\Phi^{01} \\rangle \\xrightarrow {CX(\\vert A \\rangle, \\vert B \\rangle) \\; H \\vert A \\rangle } \\vert 0_A 1_B \\rangle $ \n",
    "\n",
    "$\\vert \\Phi^{10} \\rangle \\xrightarrow {CX(\\vert A \\rangle, \\vert B \\rangle) \\; H \\vert A \\rangle } \\vert 1_A 0_B \\rangle $ \n",
    "\n",
    "$\\vert \\Phi^{11} \\rangle \\xrightarrow {CX(\\vert A \\rangle, \\vert B \\rangle) \\; H \\vert A \\rangle } - \\vert 1_A 1_B \\rangle $ "
   ]
  },
  {
   "cell_type": "markdown",
   "id": "719a0f28",
   "metadata": {},
   "source": [
    "### #4  Measurement\n",
    "Bob measures both qubits and reads the two classical bits sent by Alice.\n",
    "\n"
   ]
  },
  {
   "cell_type": "markdown",
   "id": "fdef664f",
   "metadata": {},
   "source": [
    "# IMPLEMENTATION DENSE CODING \n",
    "**USING IBM'S QISKIT PYTHON  LIBRARY AND IBM'S QPU CLOUD**\n",
    "\n",
    "\n",
    "Firstly, I use the Statevector Simulator to \"spy\" qubit state before measurement, then the quantum circuit is executed on QPU."
   ]
  },
  {
   "cell_type": "code",
   "execution_count": 5,
   "id": "21209ffc",
   "metadata": {},
   "outputs": [
    {
     "name": "stderr",
     "output_type": "stream",
     "text": [
      "ibmqfactory.load_account:WARNING:2022-06-20 19:42:31,290: Credentials are already in use. The existing account in the session will be replaced.\n"
     ]
    }
   ],
   "source": [
    "from qiskit import QuantumCircuit, QuantumRegister, ClassicalRegister, execute\n",
    "\n",
    "from qiskit.quantum_info import Statevector\n",
    "from qiskit.visualization import array_to_latex, plot_bloch_multivector, plot_histogram\n",
    "\n",
    "from qiskit import IBMQ, Aer, transpile, assemble\n",
    "from qiskit.providers.ibmq import least_busy\n",
    "from qiskit.tools.monitor import job_monitor\n",
    "\n",
    "#IBMQ.save_account('TOKEN')\n",
    "IBMQ.load_account()\n",
    "provider = IBMQ.get_provider(hub = 'ibm-q')\n",
    "\n",
    "#1 Generating an EPR Pair\n",
    "\n",
    "def generating_epr_pair():\n",
    "    \n",
    "    qr = QuantumRegister(2, \"qbit\")\n",
    "    cr = ClassicalRegister(2, name=\"cbit\")\n",
    "    qc = QuantumCircuit(qr, cr)\n",
    "    \n",
    "    qc.h(1) #Hadamard Gate\n",
    "    qc.cx(1,0) #CNOT Gate\n",
    "    \n",
    "    state = Statevector(qc)\n",
    "    return qc, qr, cr, state\n",
    "\n",
    "#2 Manipulating on Alice's qubit \n",
    "\n",
    "def alice_operations(qc, msg):\n",
    "    \n",
    "    if msg[1] == \"1\":\n",
    "        qc.x(0) #NOT/Pauli X Gate\n",
    "    if msg[0] == \"1\":\n",
    "        qc.z(0) #FLIP/Pauli Z Gate\n",
    "        \n",
    "    state = Statevector(qc)\n",
    "    return qc, state\n",
    "\n",
    "#3 Manipulating on Bob's qubit\n",
    "\n",
    "def bob_operations(qc):\n",
    "    \n",
    "    qc.cx(1,0) #CNOT Gate\n",
    "    qc.h(1) #Hadamard Gate\n",
    "    \n",
    "    state = Statevector(qc)\n",
    "    return qc, state\n",
    "\n",
    "#4 Measurement\n",
    "\n",
    "def measurement(qc, qr, cr):\n",
    "    qc.measure(qr,cr)\n",
    "\n",
    "    backend    = least_busy(provider.backends( \n",
    "        filters = lambda b: \n",
    "        b.configuration().n_qubits >= 2 and not \n",
    "        b.configuration().simulator and \n",
    "        b.status().operational == True))\n",
    "    print(f\"Least Busy: {backend}\")\n",
    "\n",
    "    executed    = execute(qc, backend = backend)\n",
    "    job_monitor(executed, interval = 2)\n",
    "    result      = executed.result()\n",
    "    results_qpu = result.get_counts(qc)\n",
    "    \n",
    "    return results_qpu\n",
    "\n",
    "\n",
    "\n",
    "\n",
    "def output(qc, state1, state2, state3, results_qpu):\n",
    "    print(\"\\n----  EPR PAIR  ----------------------------------------\\n\")\n",
    "    display(state1.draw('latex'))\n",
    "\n",
    "    print(\"\\n---- ALICE ---------------------------------------------\\n\")\n",
    "    display(state2.draw('latex'))\n",
    "\n",
    "    print(\"\\n---- BOB -----------------------------------------------\\n\")\n",
    "    display(state3.draw('latex'))\n",
    "\n",
    "\n",
    "    print(\"\\n---- SHOW CIRCUIT --------------------------------------\\n\")\n",
    "    display(qc.draw(output='latex', scale=1))\n",
    "\n",
    "    \n",
    "    print(\"\\n---- IBM QPU 1024 SHOTS --------------------------------\\n\")\n",
    "    print(results_qpu)\n",
    "    display(plot_histogram(results_qpu, color='midnightblue', title=\"IBMQ: 1024 SHOTS\") )\n"
   ]
  },
  {
   "cell_type": "markdown",
   "id": "795b388f",
   "metadata": {},
   "source": [
    "## 00 message"
   ]
  },
  {
   "cell_type": "code",
   "execution_count": 6,
   "id": "0cbbff84",
   "metadata": {},
   "outputs": [
    {
     "name": "stdout",
     "output_type": "stream",
     "text": [
      "Least Busy: ibm_nairobi\n",
      "Job Status: job has successfully run\n",
      "\n",
      "----  EPR PAIR  ----------------------------------------\n",
      "\n"
     ]
    },
    {
     "data": {
      "text/latex": [
       "$$\\frac{\\sqrt{2}}{2} |00\\rangle+\\frac{\\sqrt{2}}{2} |11\\rangle$$"
      ],
      "text/plain": [
       "<IPython.core.display.Latex object>"
      ]
     },
     "metadata": {},
     "output_type": "display_data"
    },
    {
     "name": "stdout",
     "output_type": "stream",
     "text": [
      "\n",
      "---- ALICE ---------------------------------------------\n",
      "\n"
     ]
    },
    {
     "data": {
      "text/latex": [
       "$$\\frac{\\sqrt{2}}{2} |00\\rangle+\\frac{\\sqrt{2}}{2} |11\\rangle$$"
      ],
      "text/plain": [
       "<IPython.core.display.Latex object>"
      ]
     },
     "metadata": {},
     "output_type": "display_data"
    },
    {
     "name": "stdout",
     "output_type": "stream",
     "text": [
      "\n",
      "---- BOB -----------------------------------------------\n",
      "\n"
     ]
    },
    {
     "data": {
      "text/latex": [
       "$$ |00\\rangle$$"
      ],
      "text/plain": [
       "<IPython.core.display.Latex object>"
      ]
     },
     "metadata": {},
     "output_type": "display_data"
    },
    {
     "name": "stdout",
     "output_type": "stream",
     "text": [
      "\n",
      "---- SHOW CIRCUIT --------------------------------------\n",
      "\n"
     ]
    },
    {
     "data": {
      "image/png": "[encoded data removed]",
      "text/plain": [
       "<PIL.Image.Image image mode=RGB size=395x99>"
      ]
     },
     "metadata": {},
     "output_type": "display_data"
    },
    {
     "name": "stdout",
     "output_type": "stream",
     "text": [
      "\n",
      "---- IBM QPU 1024 SHOTS --------------------------------\n",
      "\n",
      "{'00': 3908, '01': 42, '10': 49, '11': 1}\n"
     ]
    },
    {
     "data": {
      "image/png": "[encoded data removed]",
      "text/plain": [
       "<Figure size 504x360 with 1 Axes>"
      ]
     },
     "metadata": {},
     "output_type": "display_data"
    }
   ],
   "source": [
    "msg = \"00\"\n",
    "\n",
    "qc, qr, cr, state1  = generating_epr_pair()\n",
    "qc, state2  = alice_operations(qc, msg)\n",
    "qc, state3  = bob_operations(qc)\n",
    "\n",
    "results_qpu = measurement(qc, qr, cr)\n",
    "\n",
    "output(qc, state1, state2, state3, results_qpu)"
   ]
  },
  {
   "cell_type": "markdown",
   "id": "0efafac0",
   "metadata": {},
   "source": [
    "## 01 message"
   ]
  },
  {
   "cell_type": "code",
   "execution_count": 7,
   "id": "03df9f45",
   "metadata": {},
   "outputs": [
    {
     "name": "stdout",
     "output_type": "stream",
     "text": [
      "Least Busy: ibm_nairobi\n",
      "Job Status: job has successfully run\n",
      "\n",
      "----  EPR PAIR  ----------------------------------------\n",
      "\n"
     ]
    },
    {
     "data": {
      "text/latex": [
       "$$\\frac{\\sqrt{2}}{2} |00\\rangle+\\frac{\\sqrt{2}}{2} |11\\rangle$$"
      ],
      "text/plain": [
       "<IPython.core.display.Latex object>"
      ]
     },
     "metadata": {},
     "output_type": "display_data"
    },
    {
     "name": "stdout",
     "output_type": "stream",
     "text": [
      "\n",
      "---- ALICE ---------------------------------------------\n",
      "\n"
     ]
    },
    {
     "data": {
      "text/latex": [
       "$$\\frac{\\sqrt{2}}{2} |01\\rangle+\\frac{\\sqrt{2}}{2} |10\\rangle$$"
      ],
      "text/plain": [
       "<IPython.core.display.Latex object>"
      ]
     },
     "metadata": {},
     "output_type": "display_data"
    },
    {
     "name": "stdout",
     "output_type": "stream",
     "text": [
      "\n",
      "---- BOB -----------------------------------------------\n",
      "\n"
     ]
    },
    {
     "data": {
      "text/latex": [
       "$$ |01\\rangle$$"
      ],
      "text/plain": [
       "<IPython.core.display.Latex object>"
      ]
     },
     "metadata": {},
     "output_type": "display_data"
    },
    {
     "name": "stdout",
     "output_type": "stream",
     "text": [
      "\n",
      "---- SHOW CIRCUIT --------------------------------------\n",
      "\n"
     ]
    },
    {
     "data": {
      "image/png": "[encoded data removed]",
      "text/plain": [
       "<PIL.Image.Image image mode=RGB size=444x99>"
      ]
     },
     "metadata": {},
     "output_type": "display_data"
    },
    {
     "name": "stdout",
     "output_type": "stream",
     "text": [
      "\n",
      "---- IBM QPU 1024 SHOTS --------------------------------\n",
      "\n",
      "{'00': 200, '01': 3694, '10': 21, '11': 85}\n"
     ]
    },
    {
     "data": {
      "image/png": "[encoded data removed]",
      "text/plain": [
       "<Figure size 504x360 with 1 Axes>"
      ]
     },
     "metadata": {},
     "output_type": "display_data"
    }
   ],
   "source": [
    "msg = \"01\"\n",
    "\n",
    "qc, qr, cr, state1  = generating_epr_pair()\n",
    "qc, state2  = alice_operations(qc, msg)\n",
    "qc, state3  = bob_operations(qc)\n",
    "\n",
    "results_qpu = measurement(qc, qr, cr)\n",
    "\n",
    "output(qc, state1, state2, state3, results_qpu)"
   ]
  },
  {
   "cell_type": "markdown",
   "id": "bcc476ff",
   "metadata": {},
   "source": [
    "## 10 message"
   ]
  },
  {
   "cell_type": "code",
   "execution_count": 8,
   "id": "923d34f6",
   "metadata": {},
   "outputs": [
    {
     "name": "stdout",
     "output_type": "stream",
     "text": [
      "Least Busy: ibm_nairobi\n",
      "Job Status: job has successfully run\n",
      "\n",
      "----  EPR PAIR  ----------------------------------------\n",
      "\n"
     ]
    },
    {
     "data": {
      "text/latex": [
       "$$\\frac{\\sqrt{2}}{2} |00\\rangle+\\frac{\\sqrt{2}}{2} |11\\rangle$$"
      ],
      "text/plain": [
       "<IPython.core.display.Latex object>"
      ]
     },
     "metadata": {},
     "output_type": "display_data"
    },
    {
     "name": "stdout",
     "output_type": "stream",
     "text": [
      "\n",
      "---- ALICE ---------------------------------------------\n",
      "\n"
     ]
    },
    {
     "data": {
      "text/latex": [
       "$$\\frac{\\sqrt{2}}{2} |00\\rangle- \\frac{\\sqrt{2}}{2} |11\\rangle$$"
      ],
      "text/plain": [
       "<IPython.core.display.Latex object>"
      ]
     },
     "metadata": {},
     "output_type": "display_data"
    },
    {
     "name": "stdout",
     "output_type": "stream",
     "text": [
      "\n",
      "---- BOB -----------------------------------------------\n",
      "\n"
     ]
    },
    {
     "data": {
      "text/latex": [
       "$$ |10\\rangle$$"
      ],
      "text/plain": [
       "<IPython.core.display.Latex object>"
      ]
     },
     "metadata": {},
     "output_type": "display_data"
    },
    {
     "name": "stdout",
     "output_type": "stream",
     "text": [
      "\n",
      "---- SHOW CIRCUIT --------------------------------------\n",
      "\n"
     ]
    },
    {
     "data": {
      "image/png": "[encoded data removed]",
      "text/plain": [
       "<PIL.Image.Image image mode=RGB size=441x99>"
      ]
     },
     "metadata": {},
     "output_type": "display_data"
    },
    {
     "name": "stdout",
     "output_type": "stream",
     "text": [
      "\n",
      "---- IBM QPU 1024 SHOTS --------------------------------\n",
      "\n",
      "{'00': 238, '01': 16, '10': 3665, '11': 81}\n"
     ]
    },
    {
     "data": {
      "image/png": "[encoded data removed]",
      "text/plain": [
       "<Figure size 504x360 with 1 Axes>"
      ]
     },
     "metadata": {},
     "output_type": "display_data"
    }
   ],
   "source": [
    "msg = \"10\"\n",
    "\n",
    "qc, qr, cr, state1  = generating_epr_pair()\n",
    "qc, state2  = alice_operations(qc, msg)\n",
    "qc, state3  = bob_operations(qc)\n",
    "\n",
    "results_qpu = measurement(qc, qr, cr)\n",
    "\n",
    "output(qc, state1, state2, state3, results_qpu)"
   ]
  },
  {
   "cell_type": "markdown",
   "id": "694b55b7",
   "metadata": {},
   "source": [
    "## 11 message"
   ]
  },
  {
   "cell_type": "code",
   "execution_count": 9,
   "id": "90412f04",
   "metadata": {},
   "outputs": [
    {
     "name": "stdout",
     "output_type": "stream",
     "text": [
      "Least Busy: ibm_nairobi\n",
      "Job Status: job has successfully run\n",
      "\n",
      "----  EPR PAIR  ----------------------------------------\n",
      "\n"
     ]
    },
    {
     "data": {
      "text/latex": [
       "$$\\frac{\\sqrt{2}}{2} |00\\rangle+\\frac{\\sqrt{2}}{2} |11\\rangle$$"
      ],
      "text/plain": [
       "<IPython.core.display.Latex object>"
      ]
     },
     "metadata": {},
     "output_type": "display_data"
    },
    {
     "name": "stdout",
     "output_type": "stream",
     "text": [
      "\n",
      "---- ALICE ---------------------------------------------\n",
      "\n"
     ]
    },
    {
     "data": {
      "text/latex": [
       "$$- \\frac{\\sqrt{2}}{2} |01\\rangle+\\frac{\\sqrt{2}}{2} |10\\rangle$$"
      ],
      "text/plain": [
       "<IPython.core.display.Latex object>"
      ]
     },
     "metadata": {},
     "output_type": "display_data"
    },
    {
     "name": "stdout",
     "output_type": "stream",
     "text": [
      "\n",
      "---- BOB -----------------------------------------------\n",
      "\n"
     ]
    },
    {
     "data": {
      "text/latex": [
       "$$- |11\\rangle$$"
      ],
      "text/plain": [
       "<IPython.core.display.Latex object>"
      ]
     },
     "metadata": {},
     "output_type": "display_data"
    },
    {
     "name": "stdout",
     "output_type": "stream",
     "text": [
      "\n",
      "---- SHOW CIRCUIT --------------------------------------\n",
      "\n"
     ]
    },
    {
     "data": {
      "image/png": "[encoded data removed]",
      "text/plain": [
       "<PIL.Image.Image image mode=RGB size=490x99>"
      ]
     },
     "metadata": {},
     "output_type": "display_data"
    },
    {
     "name": "stdout",
     "output_type": "stream",
     "text": [
      "\n",
      "---- IBM QPU 1024 SHOTS --------------------------------\n",
      "\n",
      "{'00': 27, '01': 226, '10': 202, '11': 3545}\n"
     ]
    },
    {
     "data": {
      "image/png": "[encoded data removed]",
      "text/plain": [
       "<Figure size 504x360 with 1 Axes>"
      ]
     },
     "metadata": {},
     "output_type": "display_data"
    }
   ],
   "source": [
    "msg = \"11\"\n",
    "\n",
    "qc, qr, cr, state1  = generating_epr_pair()\n",
    "qc, state2  = alice_operations(qc, msg)\n",
    "qc, state3  = bob_operations(qc)\n",
    "\n",
    "results_qpu = measurement(qc, qr, cr)\n",
    "\n",
    "output(qc, state1, state2, state3, results_qpu)"
   ]
  },
  {
   "cell_type": "markdown",
   "id": "5a647e54",
   "metadata": {},
   "source": [
    "#### BIBLIOGRAPHY\n",
    "\n",
    "[1] Charles H. Bennett and Stephen J. Wiesner. Communication via one- and two-particle operators on einstein-podolsky-rosen states. *Phys. Rev. Lett.*, 69:2881-2884, Nov 1992.\n",
    "\n",
    "[2] T. Schaetz, M. D. Barrett, D. Leibfried, J. Chiaverini, J. Britton, W. M. Itano, J. D. Jost, C. Langer, and D. J. Wineland. Quantum dense coding with atomic qubits. *Phys. Rev. Lett.*, 93:040505, Jul 2004.\n",
    "\n",
    "[3] Michel Le Bellac. *Wstep do informatyki kwantowej.* Wydawnictwo Naukowe PWN, Warszawa, 2011.\n",
    "\n",
    "[4] Michael A. Nielsen and Isaac L. Chuang. *Quantum computation and quantum information.* Cambridge University Press, 2010.\n",
    "\n",
    "[5] Benjamin Schumacher and Michael Westmoreland. *Quantum Processes Systems, and Information.* Cambridge University Press, Cambridge, 2010.\n",
    "\n",
    "[6] Michel Le Bellac. *Quantum Physics.* Cambridge University Press, Cambridge, 2006."
   ]
  }
 ],
 "metadata": {
  "interpreter": {
   "hash": "916dbcbb3f70747c44a77c7bcd40155683ae19c65e1c03b4aa3499c5328201f1"
  },
  "kernelspec": {
   "display_name": "Python 3.9.2 64-bit",
   "language": "python",
   "name": "python3"
  },
  "language_info": {
   "codemirror_mode": {
    "name": "ipython",
    "version": 3
   },
   "file_extension": ".py",
   "mimetype": "text/x-python",
   "name": "python",
   "nbconvert_exporter": "python",
   "pygments_lexer": "ipython3",
   "version": "3.9.2"
  }
 },
 "nbformat": 4,
 "nbformat_minor": 5
}
