{
 "cells": [
  {
   "cell_type": "markdown",
   "id": "3ed611ba",
   "metadata": {},
   "source": [
    "## BELL STATES"
   ]
  },
  {
   "cell_type": "code",
   "execution_count": 1,
   "id": "ae9c8702",
   "metadata": {},
   "outputs": [],
   "source": [
    "from qiskit import QuantumCircuit, QuantumRegister, ClassicalRegister, execute\n",
    "\n",
    "from qiskit.quantum_info import Statevector\n",
    "from qiskit.visualization import array_to_latex, plot_bloch_multivector, plot_histogram\n",
    "\n",
    "from qiskit import IBMQ\n",
    "from qiskit.providers.ibmq import least_busy\n",
    "from qiskit.tools.monitor import job_monitor\n",
    "\n",
    "#IBMQ.enable_account(token)\n",
    "IBMQ.load_account()\n",
    "provider = IBMQ.get_provider(hub = 'ibm-q')"
   ]
  },
  {
   "cell_type": "markdown",
   "id": "4a224f38",
   "metadata": {},
   "source": [
    "#### SEPARABLE & ENTANGLED STATES"
   ]
  },
  {
   "cell_type": "markdown",
   "id": "85e8fce2",
   "metadata": {},
   "source": [
    "$ \\vert \\Phi \\otimes \\Psi \\rangle = \\sum_{n,m} \\alpha_{n} \\beta_{m} \\vert \\varphi_{n} \\otimes \\psi_{m}\\rangle $ \n",
    "\n",
    "$ \\vert \\Theta \\rangle = \\sum_{n,m} \\gamma_{n m} \\vert \\varphi_{n} \\otimes \\psi_{m}\\rangle $ \n",
    "\n",
    "The vector $\\vert \\Theta \\rangle$ can not be written as a tensor product $\\vert \\Phi \\otimes \\Psi \\rangle $ if it \n",
    "will not be possible to factorize $ \\gamma_{n m} $ in form $ \\alpha_{n} \\beta_{m} $\n",
    "\n",
    "The state vectors that can be written as a tensor product form a subset of $ \\mathcal{H}^N \\otimes \\mathcal{H}^M $\n",
    "A state vector that cannot be written as  a tensor product is an entangled state\n",
    "\n",
    "\n",
    "$ \\vert \\Phi_1 \\rangle = \\alpha_0 \\; \\vert \\varphi_0 \\rangle + \\alpha_1 \\; \\vert \\varphi_1 \\rangle $ \n",
    "\n",
    "$ \\vert \\Phi_2 \\rangle = \\beta_0 \\; \\vert \\varphi_0 \\rangle + \\beta_1 \\; \\vert \\varphi_1 \\rangle $ \n",
    "\n",
    "$ \\vert \\Phi_1  \\otimes \\Phi_2 \\rangle\n",
    "  = \\alpha_0 \\beta_0  \\; \\vert \\varphi_0 \\varphi_0 \\rangle  \n",
    "  + \\alpha_0 \\beta_1  \\; \\vert \\varphi_0 \\varphi_1 \\rangle  \n",
    "  + \\alpha_1 \\beta_0  \\; \\vert \\varphi_1 \\varphi_0 \\rangle\n",
    "  + \\alpha_1 \\beta_1  \\; \\vert \\varphi_1 \\varphi_1 \\rangle $\n",
    "\n",
    "$ \\vert \\Theta \\rangle\n",
    "  = \\gamma_1  \\; \\vert \\varphi_0 \\varphi_0 \\rangle  \n",
    "  + \\gamma_2  \\; \\vert \\varphi_0 \\varphi_1 \\rangle  \n",
    "  + \\gamma_3  \\; \\vert \\varphi_1 \\varphi_0 \\rangle\n",
    "  + \\gamma_4  \\; \\vert \\varphi_1 \\varphi_1 \\rangle $"
   ]
  },
  {
   "cell_type": "markdown",
   "id": "d8471b5f",
   "metadata": {},
   "source": [
    "$\n",
    "\\begin{cases}\n",
    "    \\alpha_0 \\beta_0 = \\gamma_1\\\\\n",
    "    \\alpha_0 \\beta_1 = \\gamma_2\\\\\n",
    "    \\alpha_1 \\beta_0 = \\gamma_3\\\\\n",
    "    \\alpha_1 \\beta_1 = \\gamma_4\\\\\n",
    "\\end{cases}\n",
    "$\n",
    "\n",
    "$ \\alpha_0 \\beta_0 \\alpha_1 \\beta_1 = \\alpha_0 \\beta_1 \\alpha_1 \\beta_0 $\n",
    "\n",
    "$ \\gamma_1 \\gamma_4 = \\gamma_2 \\gamma_3 \\implies $  separable states "
   ]
  },
  {
   "cell_type": "markdown",
   "id": "fc44c537",
   "metadata": {},
   "source": [
    "### MAXIMALLY ENTANGLED, PURE TWO-QUBIT BELL STATES\n"
   ]
  },
  {
   "cell_type": "markdown",
   "id": "d8e6e296",
   "metadata": {},
   "source": [
    "$ \\vert B_{01} \\rangle = \\frac{\\vert 0 1 \\rangle + \\vert 1 0 \\rangle}{\\sqrt{2}} $\n",
    "\n",
    "\n",
    "$ \\vert B_{10} \\rangle = \\frac{\\vert 0 1 \\rangle - \\vert 1 0 \\rangle}{\\sqrt{2}} $\n",
    "\n",
    "$ \\vert B_{00} \\rangle = \\frac{\\vert 0 0 \\rangle + \\vert 1 1 \\rangle}{\\sqrt{2}} $\n",
    "\n",
    "$ \\vert B_{10} \\rangle = \\frac{\\vert 0 0 \\rangle - \\vert 1 1 \\rangle}{\\sqrt{2}} $"
   ]
  },
  {
   "cell_type": "markdown",
   "id": "16c7c95d",
   "metadata": {},
   "source": [
    "#### CNOT GATE\n",
    "\n",
    "***!!!*** ***Qiskit*** uses an ordering in which the nth qubit is on the left side of the tensor product in quantum register\n",
    "\n",
    "$ \\vert \\varphi \\rangle = \\vert \\varphi_{n-1} \\rangle  \\otimes  \\vert \\varphi_1 \\rangle \\; \\otimes ... \\otimes \\;  \\vert \\varphi_{0} \\rangle$"
   ]
  },
  {
   "cell_type": "markdown",
   "id": "b2c75e8f",
   "metadata": {},
   "source": [
    "## $ B_{00} $\n",
    "\n",
    "$ \\vert B_{00} \\rangle = \\frac{\\vert 0 0 \\rangle + \\vert 1 1 \\rangle}{\\sqrt{2}} =  \\frac{1}{\\sqrt{2}} $\n",
    "$\n",
    "\\begin{pmatrix}\n",
    "1 \\\\\n",
    "0 \\\\\n",
    "0 \\\\\n",
    "0 \\\\\n",
    "\\end{pmatrix} +\n",
    "$\n",
    "$\n",
    "\\begin{pmatrix}\n",
    "0 \\\\\n",
    "0 \\\\\n",
    "0 \\\\\n",
    "1 \\\\\n",
    "\\end{pmatrix} =\n",
    "$\n",
    "$\n",
    "\\begin{pmatrix}\n",
    "\\frac{1}{\\sqrt{2}} \\\\\n",
    "0 \\\\\n",
    "0 \\\\\n",
    "\\frac{1}{\\sqrt{2}} \\\\\n",
    "\\end{pmatrix}\n",
    "$\n",
    "\n",
    "$ \\vert 0 \\rangle  \\otimes \\vert 0 \\rangle = \\vert 0 0 \\rangle$\n",
    "\n",
    "$ H \\vert 0 \\rangle  \\otimes \\vert 0 \\rangle = \\frac{1}{\\sqrt{2}} \\big( \\vert 0 \\rangle + \\vert 1 \\rangle \\big) \\otimes \\vert 0 \\rangle = \\frac{1}{\\sqrt{2}} \\big( \\vert 0 0 \\rangle + \\vert 1 0\\rangle \\big) $\n",
    "\n",
    "$ CNOT \\frac{1}{\\sqrt{2}} \\big( \\vert 0 0 \\rangle + \\vert 1 0\\rangle \\big) =  \\frac{1}{\\sqrt{2}} \\big( \\vert 0 0 \\rangle + \\vert 1 1\\rangle \\big) $ "
   ]
  },
  {
   "cell_type": "code",
   "execution_count": 2,
   "id": "0d993d63",
   "metadata": {},
   "outputs": [
    {
     "name": "stdout",
     "output_type": "stream",
     "text": [
      "\n",
      "---- |0> x |0> -----------------------------------------\n",
      "\n"
     ]
    },
    {
     "data": {
      "text/latex": [
       "$$\n",
       "\n",
       "\\begin{bmatrix}\n",
       "1 & 0 & 0 & 0  \\\\\n",
       " \\end{bmatrix}\n",
       "$$"
      ],
      "text/plain": [
       "<IPython.core.display.Latex object>"
      ]
     },
     "metadata": {},
     "output_type": "display_data"
    },
    {
     "name": "stdout",
     "output_type": "stream",
     "text": [
      "\n",
      "---- H|0> x |0> ----------------------------------------\n",
      "\n"
     ]
    },
    {
     "data": {
      "text/latex": [
       "$$\n",
       "\n",
       "\\begin{bmatrix}\n",
       "\\tfrac{1}{\\sqrt{2}} & 0 & \\tfrac{1}{\\sqrt{2}} & 0  \\\\\n",
       " \\end{bmatrix}\n",
       "$$"
      ],
      "text/plain": [
       "<IPython.core.display.Latex object>"
      ]
     },
     "metadata": {},
     "output_type": "display_data"
    },
    {
     "name": "stdout",
     "output_type": "stream",
     "text": [
      "\n",
      "----  CNOT(H|0> x |0>) ---------------------------------\n",
      "\n"
     ]
    },
    {
     "data": {
      "text/latex": [
       "$$\n",
       "\n",
       "\\begin{bmatrix}\n",
       "\\tfrac{1}{\\sqrt{2}} & 0 & 0 & \\tfrac{1}{\\sqrt{2}}  \\\\\n",
       " \\end{bmatrix}\n",
       "$$"
      ],
      "text/plain": [
       "<IPython.core.display.Latex object>"
      ]
     },
     "metadata": {},
     "output_type": "display_data"
    },
    {
     "name": "stdout",
     "output_type": "stream",
     "text": [
      "\n",
      "---- CIRCUIT CNOT(H|0> x |0>) --------------------------\n",
      "\n"
     ]
    },
    {
     "data": {
      "image/png": "[encoded data removed]",
      "text/plain": [
       "<PIL.Image.Image image mode=RGB size=316x92 at 0x207E7B41430>"
      ]
     },
     "metadata": {},
     "output_type": "display_data"
    }
   ],
   "source": [
    "qr = QuantumRegister(2, \"qbit\")\n",
    "qc = QuantumCircuit(qr)\n",
    "\n",
    "state0 = Statevector(qc)\n",
    "\n",
    "#Hadamard Gate\n",
    "qc.h(qr[1])\n",
    "\n",
    "state1 = Statevector(qc)\n",
    "\n",
    "#CNOT Gate\n",
    "qc.cx(qr[1],qr[0])\n",
    "\n",
    "state2 = Statevector(qc)\n",
    "\n",
    "print(\"\\n---- |0> x |0> -----------------------------------------\\n\")\n",
    "display(state0.draw('latex'))\n",
    "\n",
    "print(\"\\n---- H|0> x |0> ----------------------------------------\\n\")\n",
    "display(state1.draw('latex'))\n",
    "\n",
    "print(\"\\n----  CNOT(H|0> x |0>) ---------------------------------\\n\")\n",
    "display(state2.draw('latex'))\n",
    "\n",
    "print(\"\\n---- CIRCUIT CNOT(H|0> x |0>) --------------------------\\n\")\n",
    "display(qc.draw(\"latex\"))"
   ]
  },
  {
   "cell_type": "markdown",
   "id": "a5788286",
   "metadata": {},
   "source": [
    "## $ B_{01} $\n",
    "\n",
    "$ \\vert B_{01} \\rangle = \\frac{\\vert 0 1 \\rangle + \\vert 1 0 \\rangle}{\\sqrt{2}} =  \\frac{1}{\\sqrt{2}} $\n",
    "$\n",
    "\\begin{pmatrix}\n",
    "0 \\\\\n",
    "1 \\\\\n",
    "0 \\\\\n",
    "0 \\\\\n",
    "\\end{pmatrix} +\n",
    "$\n",
    "$\n",
    "\\begin{pmatrix}\n",
    "0 \\\\\n",
    "0 \\\\\n",
    "1 \\\\\n",
    "0 \\\\\n",
    "\\end{pmatrix} =\n",
    "$\n",
    "$\n",
    "\\begin{pmatrix}\n",
    "0 \\\\\n",
    "\\frac{1}{\\sqrt{2}} \\\\\n",
    "\\frac{1}{\\sqrt{2}} \\\\\n",
    "0 \\\\\n",
    "\\end{pmatrix}\n",
    "$\n",
    "\n",
    "\n",
    "$ \\vert 0 \\rangle  \\otimes \\vert 1 \\rangle = \\vert 0 1 \\rangle$\n",
    "\n",
    "$ H \\vert 0 \\rangle  \\otimes \\vert 1 \\rangle = \\frac{1}{\\sqrt{2}} \\big( \\vert 0 \\rangle + \\vert 1 \\rangle \\big) \\otimes \\vert 1 \\rangle = \\frac{1}{\\sqrt{2}} \\big( \\vert 0 1 \\rangle + \\vert 1 1\\rangle \\big) $\n",
    "\n",
    "$ CNOT \\frac{1}{\\sqrt{2}} \\big( \\vert 0 1 \\rangle + \\vert 1 1\\rangle \\big) =  \\frac{1}{\\sqrt{2}} \\big( \\vert 0 1 \\rangle + \\vert 1 0\\rangle \\big) $ "
   ]
  },
  {
   "cell_type": "code",
   "execution_count": 3,
   "id": "bb382f38",
   "metadata": {},
   "outputs": [
    {
     "name": "stdout",
     "output_type": "stream",
     "text": [
      "\n",
      "---- |0> x |1> -----------------------------------------\n",
      "\n"
     ]
    },
    {
     "data": {
      "text/latex": [
       "$$\n",
       "\n",
       "\\begin{bmatrix}\n",
       "0 & 1 & 0 & 0  \\\\\n",
       " \\end{bmatrix}\n",
       "$$"
      ],
      "text/plain": [
       "<IPython.core.display.Latex object>"
      ]
     },
     "metadata": {},
     "output_type": "display_data"
    },
    {
     "name": "stdout",
     "output_type": "stream",
     "text": [
      "\n",
      "---- H|0> x |1> ----------------------------------------\n",
      "\n"
     ]
    },
    {
     "data": {
      "text/latex": [
       "$$\n",
       "\n",
       "\\begin{bmatrix}\n",
       "0 & \\tfrac{1}{\\sqrt{2}} & 0 & \\tfrac{1}{\\sqrt{2}}  \\\\\n",
       " \\end{bmatrix}\n",
       "$$"
      ],
      "text/plain": [
       "<IPython.core.display.Latex object>"
      ]
     },
     "metadata": {},
     "output_type": "display_data"
    },
    {
     "name": "stdout",
     "output_type": "stream",
     "text": [
      "\n",
      "----  CNOT(H|0> x |1>) ---------------------------------\n",
      "\n"
     ]
    },
    {
     "data": {
      "text/latex": [
       "$$\n",
       "\n",
       "\\begin{bmatrix}\n",
       "0 & \\tfrac{1}{\\sqrt{2}} & \\tfrac{1}{\\sqrt{2}} & 0  \\\\\n",
       " \\end{bmatrix}\n",
       "$$"
      ],
      "text/plain": [
       "<IPython.core.display.Latex object>"
      ]
     },
     "metadata": {},
     "output_type": "display_data"
    },
    {
     "name": "stdout",
     "output_type": "stream",
     "text": [
      "\n",
      "---- CIRCUIT CNOT(H|0> x |1>) --------------------------\n",
      "\n"
     ]
    },
    {
     "data": {
      "image/png": "[encoded data removed]",
      "text/plain": [
       "<PIL.Image.Image image mode=RGB size=316x99 at 0x207E7B3BCD0>"
      ]
     },
     "metadata": {},
     "output_type": "display_data"
    }
   ],
   "source": [
    "qr = QuantumRegister(2, \"qbit\")\n",
    "qc = QuantumCircuit(qr)\n",
    "\n",
    "#NOT/Pauli X Gate\n",
    "qc.x(qr[0])\n",
    "\n",
    "state0 = Statevector(qc)\n",
    "\n",
    "#Hadamard Gate\n",
    "qc.h(qr[1])\n",
    "\n",
    "state1 = Statevector(qc)\n",
    "\n",
    "#CNOT Gate\n",
    "qc.cx(qr[1],qr[0])\n",
    "\n",
    "state2 = Statevector(qc)\n",
    "\n",
    "print(\"\\n---- |0> x |1> -----------------------------------------\\n\")\n",
    "display(state0.draw('latex'))\n",
    "\n",
    "print(\"\\n---- H|0> x |1> ----------------------------------------\\n\")\n",
    "display(state1.draw('latex'))\n",
    "\n",
    "print(\"\\n----  CNOT(H|0> x |1>) ---------------------------------\\n\")\n",
    "display(state2.draw('latex'))\n",
    "\n",
    "print(\"\\n---- CIRCUIT CNOT(H|0> x |1>) --------------------------\\n\")\n",
    "display(qc.draw(\"latex\"))"
   ]
  },
  {
   "cell_type": "markdown",
   "id": "dc535620",
   "metadata": {},
   "source": [
    "## $ B_{10} $\n",
    "\n",
    "$ \\vert B_{10} \\rangle = \\frac{\\vert 0 0 \\rangle - \\vert 1 1 \\rangle}{\\sqrt{2}} =  \\frac{1}{\\sqrt{2}} $\n",
    "$\n",
    "\\begin{pmatrix}\n",
    "1 \\\\\n",
    "0 \\\\\n",
    "0 \\\\\n",
    "0 \\\\\n",
    "\\end{pmatrix} -\n",
    "$\n",
    "$\n",
    "\\begin{pmatrix}\n",
    "0 \\\\\n",
    "0 \\\\\n",
    "0 \\\\\n",
    "1 \\\\\n",
    "\\end{pmatrix} =\n",
    "$\n",
    "$\n",
    "\\begin{pmatrix}\n",
    "\\frac{1}{\\sqrt{2}} \\\\\n",
    "0 \\\\\n",
    "0 \\\\\n",
    "- \\frac{1}{\\sqrt{2}} \\\\\n",
    "\\end{pmatrix}\n",
    "$\n",
    "\n",
    "$ \\vert 1 \\rangle  \\otimes \\vert 0 \\rangle = \\vert 1 0 \\rangle$\n",
    "\n",
    "$ H \\vert 1 \\rangle  \\otimes \\vert 0 \\rangle = \\frac{1}{\\sqrt{2}} \\big( \\vert 0 \\rangle - \\vert 1 \\rangle \\big) \\otimes \\vert 0 \\rangle = \\frac{1}{\\sqrt{2}} \\big( \\vert 0 0 \\rangle - \\vert 1 0\\rangle \\big) $\n",
    "\n",
    "$ CNOT \\frac{1}{\\sqrt{2}} \\big( \\vert 0 0 \\rangle - \\vert 1 0\\rangle \\big) =  \\frac{1}{\\sqrt{2}} \\big( \\vert 0 0 \\rangle - \\vert 1 1\\rangle \\big) $ "
   ]
  },
  {
   "cell_type": "code",
   "execution_count": 4,
   "id": "fc53861a",
   "metadata": {},
   "outputs": [
    {
     "name": "stdout",
     "output_type": "stream",
     "text": [
      "\n",
      "---- |1> x |0> -----------------------------------------\n",
      "\n"
     ]
    },
    {
     "data": {
      "text/latex": [
       "$$\n",
       "\n",
       "\\begin{bmatrix}\n",
       "0 & 0 & 1 & 0  \\\\\n",
       " \\end{bmatrix}\n",
       "$$"
      ],
      "text/plain": [
       "<IPython.core.display.Latex object>"
      ]
     },
     "metadata": {},
     "output_type": "display_data"
    },
    {
     "name": "stdout",
     "output_type": "stream",
     "text": [
      "\n",
      "---- H|1> x |0> ----------------------------------------\n",
      "\n"
     ]
    },
    {
     "data": {
      "text/latex": [
       "$$\n",
       "\n",
       "\\begin{bmatrix}\n",
       "\\tfrac{1}{\\sqrt{2}} & 0 & -\\tfrac{1}{\\sqrt{2}} & 0  \\\\\n",
       " \\end{bmatrix}\n",
       "$$"
      ],
      "text/plain": [
       "<IPython.core.display.Latex object>"
      ]
     },
     "metadata": {},
     "output_type": "display_data"
    },
    {
     "name": "stdout",
     "output_type": "stream",
     "text": [
      "\n",
      "----  CNOT(H|1> x |0>) ---------------------------------\n",
      "\n"
     ]
    },
    {
     "data": {
      "text/latex": [
       "$$\n",
       "\n",
       "\\begin{bmatrix}\n",
       "\\tfrac{1}{\\sqrt{2}} & 0 & 0 & -\\tfrac{1}{\\sqrt{2}}  \\\\\n",
       " \\end{bmatrix}\n",
       "$$"
      ],
      "text/plain": [
       "<IPython.core.display.Latex object>"
      ]
     },
     "metadata": {},
     "output_type": "display_data"
    },
    {
     "name": "stdout",
     "output_type": "stream",
     "text": [
      "\n",
      "---- CIRCUIT CNOT(H|1> x |0>) --------------------------\n",
      "\n"
     ]
    },
    {
     "data": {
      "image/png": "[encoded data removed]",
      "text/plain": [
       "<PIL.Image.Image image mode=RGB size=395x92 at 0x207FEB2D550>"
      ]
     },
     "metadata": {},
     "output_type": "display_data"
    }
   ],
   "source": [
    "qr = QuantumRegister(2, \"qbit\")\n",
    "qc = QuantumCircuit(qr)\n",
    "\n",
    "#NOT/Pauli X Gate\n",
    "qc.x(qr[1])\n",
    "\n",
    "state0 = Statevector(qc)\n",
    "\n",
    "#Hadamard Gate\n",
    "qc.h(qr[1])\n",
    "\n",
    "state1 = Statevector(qc)\n",
    "\n",
    "#CNOT Gate\n",
    "qc.cx(qr[1],qr[0])\n",
    "\n",
    "state2 = Statevector(qc)\n",
    "\n",
    "print(\"\\n---- |1> x |0> -----------------------------------------\\n\")\n",
    "display(state0.draw('latex'))\n",
    "\n",
    "print(\"\\n---- H|1> x |0> ----------------------------------------\\n\")\n",
    "display(state1.draw('latex'))\n",
    "\n",
    "print(\"\\n----  CNOT(H|1> x |0>) ---------------------------------\\n\")\n",
    "display(state2.draw('latex'))\n",
    "\n",
    "print(\"\\n---- CIRCUIT CNOT(H|1> x |0>) --------------------------\\n\")\n",
    "display(qc.draw(\"latex\"))"
   ]
  },
  {
   "cell_type": "markdown",
   "id": "ac306780",
   "metadata": {},
   "source": [
    "## $ B_{11} $\n",
    "\n",
    "$ \\vert B_{11} \\rangle = \\frac{\\vert 0 1 \\rangle - \\vert 1 0 \\rangle}{\\sqrt{2}} =  \\frac{1}{\\sqrt{2}} $\n",
    "$\n",
    "\\begin{pmatrix}\n",
    "0 \\\\\n",
    "1 \\\\\n",
    "0 \\\\\n",
    "0 \\\\\n",
    "\\end{pmatrix} -\n",
    "$\n",
    "$\n",
    "\\begin{pmatrix}\n",
    "0 \\\\\n",
    "0 \\\\\n",
    "1 \\\\\n",
    "0 \\\\\n",
    "\\end{pmatrix} =\n",
    "$\n",
    "$\n",
    "\\begin{pmatrix}\n",
    "0 \\\\\n",
    "\\frac{1}{\\sqrt{2}} \\\\\n",
    " - \\frac{1}{\\sqrt{2}} \\\\\n",
    "0 \\\\\n",
    "\\end{pmatrix}\n",
    "$\n",
    "\n",
    "$ \\vert 1 \\rangle  \\otimes \\vert 1 \\rangle = \\vert 1 1 \\rangle$\n",
    "\n",
    "$ H \\vert 1 \\rangle  \\otimes \\vert 1 \\rangle = \\frac{1}{\\sqrt{2}} \\big( \\vert 0 \\rangle - \\vert 1 \\rangle \\big) \\otimes \\vert 1 \\rangle = \\frac{1}{\\sqrt{2}} \\big( \\vert 0 1 \\rangle - \\vert 1 1\\rangle \\big) $\n",
    "\n",
    "$ CNOT \\frac{1}{\\sqrt{2}} \\big( \\vert 0 1 \\rangle - \\vert 1 1\\rangle \\big) =  \\frac{1}{\\sqrt{2}} \\big( \\vert 0 1 \\rangle - \\vert 1 0\\rangle \\big) $ "
   ]
  },
  {
   "cell_type": "code",
   "execution_count": 5,
   "id": "cb881dd4",
   "metadata": {},
   "outputs": [
    {
     "name": "stdout",
     "output_type": "stream",
     "text": [
      "\n",
      "---- |1> x |1> -----------------------------------------\n",
      "\n"
     ]
    },
    {
     "data": {
      "text/latex": [
       "$$\n",
       "\n",
       "\\begin{bmatrix}\n",
       "0 & 0 & 0 & 1  \\\\\n",
       " \\end{bmatrix}\n",
       "$$"
      ],
      "text/plain": [
       "<IPython.core.display.Latex object>"
      ]
     },
     "metadata": {},
     "output_type": "display_data"
    },
    {
     "name": "stdout",
     "output_type": "stream",
     "text": [
      "\n",
      "---- H|1> x |1> ----------------------------------------\n",
      "\n"
     ]
    },
    {
     "data": {
      "text/latex": [
       "$$\n",
       "\n",
       "\\begin{bmatrix}\n",
       "0 & \\tfrac{1}{\\sqrt{2}} & 0 & -\\tfrac{1}{\\sqrt{2}}  \\\\\n",
       " \\end{bmatrix}\n",
       "$$"
      ],
      "text/plain": [
       "<IPython.core.display.Latex object>"
      ]
     },
     "metadata": {},
     "output_type": "display_data"
    },
    {
     "name": "stdout",
     "output_type": "stream",
     "text": [
      "\n",
      "----  CNOT(H|1> x |1>) ---------------------------------\n",
      "\n"
     ]
    },
    {
     "data": {
      "text/latex": [
       "$$\n",
       "\n",
       "\\begin{bmatrix}\n",
       "0 & \\tfrac{1}{\\sqrt{2}} & -\\tfrac{1}{\\sqrt{2}} & 0  \\\\\n",
       " \\end{bmatrix}\n",
       "$$"
      ],
      "text/plain": [
       "<IPython.core.display.Latex object>"
      ]
     },
     "metadata": {},
     "output_type": "display_data"
    },
    {
     "name": "stdout",
     "output_type": "stream",
     "text": [
      "\n",
      "---- CIRCUIT CNOT(H|1> x |1>) --------------------------\n",
      "\n"
     ]
    },
    {
     "data": {
      "image/png": "[encoded data removed]",
      "text/plain": [
       "<PIL.Image.Image image mode=RGB size=395x99 at 0x207E7B90C10>"
      ]
     },
     "metadata": {},
     "output_type": "display_data"
    }
   ],
   "source": [
    "qr = QuantumRegister(2, \"qbit\")\n",
    "qc = QuantumCircuit(qr)\n",
    "\n",
    "#NOT/Pauli X Gate\n",
    "qc.x(qr[1])\n",
    "qc.x(qr[0])\n",
    "\n",
    "state0 = Statevector(qc)\n",
    "\n",
    "#Hadamard Gate\n",
    "qc.h(qr[1])\n",
    "\n",
    "state1 = Statevector(qc)\n",
    "\n",
    "#CNOT Gate\n",
    "qc.cx(qr[1],qr[0])\n",
    "\n",
    "state2 = Statevector(qc)\n",
    "\n",
    "print(\"\\n---- |1> x |1> -----------------------------------------\\n\")\n",
    "display(state0.draw('latex'))\n",
    "\n",
    "print(\"\\n---- H|1> x |1> ----------------------------------------\\n\")\n",
    "display(state1.draw('latex'))\n",
    "\n",
    "print(\"\\n----  CNOT(H|1> x |1>) ---------------------------------\\n\")\n",
    "display(state2.draw('latex'))\n",
    "\n",
    "print(\"\\n---- CIRCUIT CNOT(H|1> x |1>) --------------------------\\n\")\n",
    "display(qc.draw(\"latex\"))"
   ]
  },
  {
   "cell_type": "code",
   "execution_count": null,
   "id": "db7a1718",
   "metadata": {},
   "outputs": [],
   "source": []
  }
 ],
 "metadata": {
  "kernelspec": {
   "display_name": "Python 3 (ipykernel)",
   "language": "python",
   "name": "python3"
  },
  "language_info": {
   "codemirror_mode": {
    "name": "ipython",
    "version": 3
   },
   "file_extension": ".py",
   "mimetype": "text/x-python",
   "name": "python",
   "nbconvert_exporter": "python",
   "pygments_lexer": "ipython3",
   "version": "3.8.10"
  }
 },
 "nbformat": 4,
 "nbformat_minor": 5
}
