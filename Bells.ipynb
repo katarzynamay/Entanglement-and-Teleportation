{
 "cells": [
  {
   "cell_type": "markdown",
   "id": "3ed611ba",
   "metadata": {},
   "source": [
    "# BELL STATES"
   ]
  },
  {
   "cell_type": "markdown",
   "id": "4a224f38",
   "metadata": {},
   "source": [
    "### SEPARABLE & ENTANGLED STATES"
   ]
  },
  {
   "cell_type": "markdown",
   "id": "85e8fce2",
   "metadata": {},
   "source": [
    "$ \\vert \\Phi \\otimes \\Psi \\rangle = \\sum_{n,m} \\alpha_{n} \\beta_{m} \\vert \\varphi_{n} \\otimes \\psi_{m}\\rangle $ \n",
    "\n",
    "$ \\vert \\Theta \\rangle = \\sum_{n,m} \\gamma_{n m} \\vert \\varphi_{n} \\otimes \\psi_{m}\\rangle $ \n",
    "\n",
    "The vector $\\vert \\Theta \\rangle$ can not be written as a tensor product $\\vert \\Phi \\otimes \\Psi \\rangle $ if it \n",
    "will not be possible to factorize $ \\gamma_{n m} $ in form $ \\alpha_{n} \\beta_{m} $\n",
    "\n",
    "The state vectors that can be written as a tensor product form a subset of $ \\mathcal{H}^N \\otimes \\mathcal{H}^M $\n",
    "A state vector that cannot be written as  a tensor product is an entangled state\n",
    "\n",
    "\n",
    "$ \\vert \\Phi_1 \\rangle = \\alpha_0 \\; \\vert \\varphi_0 \\rangle + \\alpha_1 \\; \\vert \\varphi_1 \\rangle $ \n",
    "\n",
    "$ \\vert \\Phi_2 \\rangle = \\beta_0 \\; \\vert \\varphi_0 \\rangle + \\beta_1 \\; \\vert \\varphi_1 \\rangle $ \n",
    "\n",
    "$ \\vert \\Phi_1  \\otimes \\Phi_2 \\rangle = \\alpha_0 \\beta_0  \\; \\vert \\varphi_0 \\varphi_0 \\rangle  + \\alpha_0 \\beta_1  \\; \\vert \\varphi_0 \\varphi_1 \\rangle  + \\alpha_1 \\beta_0  \\; \\vert \\varphi_1 \\varphi_0 \\rangle + \\alpha_1 \\beta_1  \\; \\vert \\varphi_1 \\varphi_1 \\rangle $\n",
    "\n",
    "$ \\vert \\Theta \\rangle = \\gamma_1  \\; \\vert \\varphi_0 \\varphi_0 \\rangle  + \\gamma_2  \\; \\vert \\varphi_0 \\varphi_1 \\rangle  + \\gamma_3  \\; \\vert \\varphi_1 \\varphi_0 \\rangle + \\gamma_4  \\; \\vert \\varphi_1 \\varphi_1 \\rangle $"
   ]
  },
  {
   "cell_type": "markdown",
   "id": "d8471b5f",
   "metadata": {},
   "source": [
    "\\begin{cases}\n",
    "    \\alpha_0 \\beta_0 = \\gamma_1 \\\\\n",
    "    \\alpha_0 \\beta_1 = \\gamma_2 \\\\\n",
    "    \\alpha_1 \\beta_0 = \\gamma_3 \\\\\n",
    "    \\alpha_1 \\beta_1 = \\gamma_4 \\\\\n",
    "\\end{cases}\n",
    "\n",
    "$ \\alpha_0 \\beta_0 \\alpha_1 \\beta_1 = \\alpha_0 \\beta_1 \\alpha_1 \\beta_0 $\n",
    "\n",
    "$ \\gamma_1 \\gamma_4 = \\gamma_2 \\gamma_3 \\implies $  separable states "
   ]
  },
  {
   "cell_type": "markdown",
   "id": "fc44c537",
   "metadata": {},
   "source": [
    "### MAXIMALLY ENTANGLED, PURE TWO-QUBIT BELL STATES\n"
   ]
  },
  {
   "cell_type": "markdown",
   "id": "d8e6e296",
   "metadata": {},
   "source": [
    "$ \\vert B_{00} \\rangle = \\frac{\\vert 0 0 \\rangle + \\vert 1 1 \\rangle}{\\sqrt{2}} $\n",
    "\n",
    "$ \\vert B_{01} \\rangle = \\frac{\\vert 0 1 \\rangle + \\vert 1 0 \\rangle}{\\sqrt{2}} $\n",
    "\n",
    "$ \\vert B_{10} \\rangle = \\frac{\\vert 0 0 \\rangle - \\vert 1 1 \\rangle}{\\sqrt{2}} $\n",
    "\n",
    "$ \\vert B_{11} \\rangle = \\frac{\\vert 0 1 \\rangle - \\vert 1 0 \\rangle}{\\sqrt{2}} $"
   ]
  },
  {
   "cell_type": "markdown",
   "id": "1f24e00a",
   "metadata": {},
   "source": [
    "# GENERATING AN EPR PAIRS\n",
    "\n",
    "**USING IBM'S QISKIT PYTHON  LIBRARY AND IBM'S QPU CLOUD**\n",
    "\n",
    "\n",
    "Firstly, I use the Statevector Simulator to \"spy\" qubit state before measurement, then the quantum circuit is executed on QPU.\n",
    "\n",
    "***!!!*** ***Qiskit*** uses an ordering in which the nth qubit is on the left side of the tensor product in quantum register\n",
    "\n",
    "$ \\vert \\varphi \\rangle = \\vert \\varphi_{n-1} \\rangle  \\otimes  \\vert \\varphi_1 \\rangle \\; \\otimes ... \\otimes \\;  \\vert \\varphi_{0} \\rangle$"
   ]
  },
  {
   "cell_type": "code",
   "execution_count": 2,
   "id": "60d18c53",
   "metadata": {},
   "outputs": [],
   "source": [
    "from qiskit import QuantumCircuit, QuantumRegister, ClassicalRegister, execute\n",
    "\n",
    "from qiskit.quantum_info import Statevector\n",
    "from qiskit.visualization import array_to_latex, plot_bloch_multivector, plot_histogram\n",
    "\n",
    "from qiskit import IBMQ\n",
    "from qiskit.providers.ibmq import least_busy\n",
    "from qiskit.tools.monitor import job_monitor\n",
    "\n",
    "#IBMQ.save_account('TOKEN')\n",
    "IBMQ.load_account()\n",
    "provider = IBMQ.get_provider(hub = 'ibm-q')\n",
    "\n",
    "\n",
    "#1 Generating an EPR Pair\n",
    "\n",
    "def generating_epr_pair(settings):\n",
    "    \n",
    "    qr = QuantumRegister(2, \"qbit\")\n",
    "    cr = ClassicalRegister(2, name=\"cbit\")\n",
    "    qc = QuantumCircuit(qr, cr)\n",
    "    \n",
    "    if settings[1] == \"1\":\n",
    "        qc.x(0) \n",
    "    if settings[0] == \"1\":\n",
    "        qc.x(1) \n",
    "    \n",
    "    qc.h(1) #Hadamard Gate\n",
    "    state1 = Statevector(qc)\n",
    "    \n",
    "    qc.cx(1,0) #CNOT Gate\n",
    "    state2 = Statevector(qc)\n",
    "    \n",
    "    return qc, qr, cr, state1, state2\n",
    "\n",
    "\n",
    "#2 Measurement\n",
    "\n",
    "def measurement(qc, qr, cr):\n",
    "    \n",
    "    qc.measure(qr,cr)\n",
    "\n",
    "    backend    = least_busy(provider.backends(\n",
    "        filters = lambda b: \n",
    "        b.configuration().n_qubits >= 2 and not \n",
    "        b.configuration().simulator and \n",
    "        b.status().operational == True))\n",
    "    print(f\"Least Busy: {backend}\")\n",
    "\n",
    "    executed    = execute(qc, backend = backend)\n",
    "    job_monitor(executed, interval = 2)\n",
    "    result      = executed.result()\n",
    "    results_qpu = result.get_counts(qc)\n",
    "    \n",
    "    return results_qpu\n",
    "\n",
    "\n",
    "def output(qc, state1, state2, results_qpu):\n",
    "\n",
    "    print(f\"\\n---- H|{settings[0]}> x |{settings[1]}> ----------------------------------\\n\")\n",
    "    display(state1.draw('latex'))\n",
    "\n",
    "    print(f\"\\n---- CNOT(H|{settings[0]}> x |{settings[1]}>)-----------------------------\\n\")\n",
    "    display(state2.draw('latex'))\n",
    "    \n",
    "    print(f\"\\n---- SHOW CIRCUIT --------------------------------------------------------\\n\")\n",
    "    display(qc.draw(output='latex', scale=1))\n",
    "\n",
    "    print(f\"\\n---- IBM QPU 1024 SHOTS --------------------------------------------------\\n\")\n",
    "    print(results_qpu)\n",
    "    display(plot_histogram(results_qpu, color='midnightblue', title=\"IBMQ: 1024 SHOTS\") )\n"
   ]
  },
  {
   "cell_type": "markdown",
   "id": "1fc813ca",
   "metadata": {},
   "source": [
    "## $B_{00}$  "
   ]
  },
  {
   "cell_type": "markdown",
   "id": "b2c75e8f",
   "metadata": {},
   "source": [
    "\n",
    "$ \\vert 0 \\rangle  \\otimes \\vert 0 \\rangle = \\vert 0 0 \\rangle$\n",
    "\n",
    "$ H \\vert 0 \\rangle  \\otimes \\vert 0 \\rangle = \\frac{1}{\\sqrt{2}} \\big( \\vert 0 \\rangle + \\vert 1 \\rangle \\big) \\otimes \\vert 0 \\rangle = \\frac{1}{\\sqrt{2}} \\big( \\vert 0 0 \\rangle + \\vert 1 0\\rangle \\big) $\n",
    "\n",
    "$ CNOT \\frac{1}{\\sqrt{2}} \\big( \\vert 0 0 \\rangle + \\vert 1 0\\rangle \\big) =  \\frac{1}{\\sqrt{2}} \\big( \\vert 0 0 \\rangle + \\vert 1 1\\rangle \\big) $ \n",
    "\n",
    "\n",
    "$$ \\vert B_{00} \\rangle = \\frac{\\vert 0 0 \\rangle + \\vert 1 1 \\rangle}{\\sqrt{2}} =  \\frac{1}{\\sqrt{2}} \n",
    "\n",
    "\\begin{pmatrix}\n",
    "1 \\\\\n",
    "0 \\\\\n",
    "0 \\\\\n",
    "0 \\\\\n",
    "\\end{pmatrix} +\n",
    "\n",
    "\n",
    "\\begin{pmatrix}\n",
    "0 \\\\\n",
    "0 \\\\\n",
    "0 \\\\\n",
    "1 \\\\\n",
    "\\end{pmatrix} =\n",
    "\n",
    "\\begin{pmatrix}\n",
    "\\frac{1}{\\sqrt{2}} \\\\\n",
    "0 \\\\\n",
    "0 \\\\\n",
    "\\frac{1}{\\sqrt{2}} \\\\\n",
    "\\end{pmatrix}\n",
    "\n",
    "$$"
   ]
  },
  {
   "cell_type": "code",
   "execution_count": 2,
   "id": "0d993d63",
   "metadata": {},
   "outputs": [
    {
     "name": "stdout",
     "output_type": "stream",
     "text": [
      "Least Busy: ibm_nairobi\n",
      "Job Status: job has successfully run\n",
      "\n",
      "---- H|0> x |0> ----------------------------------\n",
      "\n"
     ]
    },
    {
     "data": {
      "text/latex": [
       "$$\\frac{\\sqrt{2}}{2} |00\\rangle+\\frac{\\sqrt{2}}{2} |10\\rangle$$"
      ],
      "text/plain": [
       "<IPython.core.display.Latex object>"
      ]
     },
     "metadata": {},
     "output_type": "display_data"
    },
    {
     "name": "stdout",
     "output_type": "stream",
     "text": [
      "\n",
      "---- CNOT(H|0> x |0>)-----------------------------\n",
      "\n"
     ]
    },
    {
     "data": {
      "text/latex": [
       "$$\\frac{\\sqrt{2}}{2} |00\\rangle+\\frac{\\sqrt{2}}{2} |11\\rangle$$"
      ],
      "text/plain": [
       "<IPython.core.display.Latex object>"
      ]
     },
     "metadata": {},
     "output_type": "display_data"
    },
    {
     "name": "stdout",
     "output_type": "stream",
     "text": [
      "\n",
      "---- SHOW CIRCUIT --------------------------------------------------------\n",
      "\n"
     ]
    },
    {
     "data": {
      "image/png": "[encoded data removed]",
      "text/plain": [
       "<PIL.Image.Image image mode=RGB size=309x99>"
      ]
     },
     "metadata": {},
     "output_type": "display_data"
    },
    {
     "name": "stdout",
     "output_type": "stream",
     "text": [
      "\n",
      "---- IBM QPU 1024 SHOTS --------------------------------------------------\n",
      "\n",
      "{'00': 1989, '01': 79, '10': 110, '11': 1822}\n"
     ]
    },
    {
     "name": "stderr",
     "output_type": "stream",
     "text": [
      "Fontconfig warning: ignoring UTF-8: not a valid region tag\n"
     ]
    },
    {
     "data": {
      "image/png": "[encoded data removed]",
      "text/plain": [
       "<Figure size 504x360 with 1 Axes>"
      ]
     },
     "metadata": {},
     "output_type": "display_data"
    }
   ],
   "source": [
    "settings = \"00\"\n",
    "\n",
    "qc, qr, cr, state1, state2  = generating_epr_pair(settings)\n",
    "\n",
    "results_qpu = measurement(qc, qr, cr)\n",
    "\n",
    "output(qc, state1, state2, results_qpu)"
   ]
  },
  {
   "cell_type": "markdown",
   "id": "2d130e34",
   "metadata": {},
   "source": [
    "## $ B_{01} $"
   ]
  },
  {
   "cell_type": "markdown",
   "id": "a5788286",
   "metadata": {},
   "source": [
    "\n",
    "\n",
    "$ \\vert 0 \\rangle  \\otimes \\vert 1 \\rangle = \\vert 0 1 \\rangle$\n",
    "\n",
    "$ H \\vert 0 \\rangle  \\otimes \\vert 1 \\rangle = \\frac{1}{\\sqrt{2}} \\big( \\vert 0 \\rangle + \\vert 1 \\rangle \\big) \\otimes \\vert 1 \\rangle = \\frac{1}{\\sqrt{2}} \\big( \\vert 0 1 \\rangle + \\vert 1 1\\rangle \\big) $\n",
    "\n",
    "$ CNOT \\frac{1}{\\sqrt{2}} \\big( \\vert 0 1 \\rangle + \\vert 1 1\\rangle \\big) =  \\frac{1}{\\sqrt{2}} \\big( \\vert 0 1 \\rangle + \\vert 1 0\\rangle \\big) $ \n",
    "\n",
    "\n",
    "$$ \\vert B_{01} \\rangle = \\frac{\\vert 0 1 \\rangle + \\vert 1 0 \\rangle}{\\sqrt{2}} =  \\frac{1}{\\sqrt{2}} \n",
    "\n",
    "\\begin{pmatrix}\n",
    "0 \\\\\n",
    "1 \\\\\n",
    "0 \\\\\n",
    "0 \\\\\n",
    "\\end{pmatrix} +\n",
    " \n",
    "\n",
    "\\begin{pmatrix}\n",
    "0 \\\\\n",
    "0 \\\\\n",
    "1 \\\\\n",
    "0 \\\\\n",
    "\\end{pmatrix} =\n",
    "\n",
    "\n",
    "\\begin{pmatrix}\n",
    "0 \\\\\n",
    "\\frac{1}{\\sqrt{2}} \\\\\n",
    "\\frac{1}{\\sqrt{2}} \\\\\n",
    "0 \\\\\n",
    "\\end{pmatrix}\n",
    "\n",
    "$$"
   ]
  },
  {
   "cell_type": "code",
   "execution_count": 19,
   "id": "bb382f38",
   "metadata": {},
   "outputs": [
    {
     "name": "stdout",
     "output_type": "stream",
     "text": [
      "Least Busy: ibmq_bogota\n",
      "Job Status: job has successfully run\n",
      "\n",
      "---- H|0> x |1> ----------------------------------\n",
      "\n"
     ]
    },
    {
     "data": {
      "text/latex": [
       "$$\\frac{\\sqrt{2}}{2} |01\\rangle+\\frac{\\sqrt{2}}{2} |11\\rangle$$"
      ],
      "text/plain": [
       "<IPython.core.display.Latex object>"
      ]
     },
     "metadata": {},
     "output_type": "display_data"
    },
    {
     "name": "stdout",
     "output_type": "stream",
     "text": [
      "\n",
      "---- CNOT(H|0> x |1>)-----------------------------\n",
      "\n"
     ]
    },
    {
     "data": {
      "text/latex": [
       "$$\\frac{\\sqrt{2}}{2} |01\\rangle+\\frac{\\sqrt{2}}{2} |10\\rangle$$"
      ],
      "text/plain": [
       "<IPython.core.display.Latex object>"
      ]
     },
     "metadata": {},
     "output_type": "display_data"
    },
    {
     "name": "stdout",
     "output_type": "stream",
     "text": [
      "\n",
      "---- SHOW CIRCUIT --------------------------------------------------------\n",
      "\n"
     ]
    },
    {
     "data": {
      "image/png": "[encoded data removed]",
      "text/plain": [
       "<PIL.Image.Image image mode=RGB size=309x99>"
      ]
     },
     "metadata": {},
     "output_type": "display_data"
    },
    {
     "name": "stdout",
     "output_type": "stream",
     "text": [
      "\n",
      "---- IBM QPU 1024 SHOTS --------------------------------------------------\n",
      "\n",
      "{'00': 332, '01': 1752, '10': 1812, '11': 104}\n"
     ]
    },
    {
     "data": {
      "image/png": "[encoded data removed]",
      "text/plain": [
       "<Figure size 504x360 with 1 Axes>"
      ]
     },
     "metadata": {},
     "output_type": "display_data"
    }
   ],
   "source": [
    "settings = \"01\"\n",
    "\n",
    "qc, qr, cr, state1, state2  = generating_epr_pair(settings)\n",
    "results_qpu = measurement(qc, qr, cr)\n",
    "\n",
    "output(qc, state1, state2, results_qpu)"
   ]
  },
  {
   "cell_type": "markdown",
   "id": "327c29d9",
   "metadata": {},
   "source": [
    "## $ B_{10} $"
   ]
  },
  {
   "cell_type": "markdown",
   "id": "dc535620",
   "metadata": {},
   "source": [
    "\n",
    "\n",
    "$ \\vert 1 \\rangle  \\otimes \\vert 0 \\rangle = \\vert 1 0 \\rangle$\n",
    "\n",
    "$ H \\vert 1 \\rangle  \\otimes \\vert 0 \\rangle = \\frac{1}{\\sqrt{2}} \\big( \\vert 0 \\rangle - \\vert 1 \\rangle \\big) \\otimes \\vert 0 \\rangle = \\frac{1}{\\sqrt{2}} \\big( \\vert 0 0 \\rangle - \\vert 1 0\\rangle \\big) $\n",
    "\n",
    "$ CNOT \\frac{1}{\\sqrt{2}} \\big( \\vert 0 0 \\rangle - \\vert 1 0\\rangle \\big) =  \\frac{1}{\\sqrt{2}} \\big( \\vert 0 0 \\rangle - \\vert 1 1\\rangle \\big) $ \n",
    "\n",
    "\n",
    "$$ \\vert B_{10} \\rangle = \\frac{\\vert 0 0 \\rangle - \\vert 1 1 \\rangle}{\\sqrt{2}} =  \\frac{1}{\\sqrt{2}} \n",
    "\n",
    "\\begin{pmatrix}\n",
    "1 \\\\\n",
    "0 \\\\\n",
    "0 \\\\\n",
    "0 \\\\\n",
    "\\end{pmatrix} -\n",
    " \n",
    "\\begin{pmatrix}\n",
    "0 \\\\\n",
    "0 \\\\\n",
    "0 \\\\\n",
    "1 \\\\\n",
    "\\end{pmatrix} =\n",
    " \n",
    "\\begin{pmatrix}\n",
    "\\frac{1}{\\sqrt{2}} \\\\\n",
    "0 \\\\\n",
    "0 \\\\\n",
    "\\frac{-1}{\\sqrt{2}} \\\\\n",
    "\\end{pmatrix}\n",
    "\n",
    "$$"
   ]
  },
  {
   "cell_type": "code",
   "execution_count": 3,
   "id": "fc53861a",
   "metadata": {},
   "outputs": [
    {
     "name": "stdout",
     "output_type": "stream",
     "text": [
      "Least Busy: ibm_nairobi\n",
      "Job Status: job has successfully run\n",
      "\n",
      "---- H|1> x |0> ----------------------------------\n",
      "\n"
     ]
    },
    {
     "data": {
      "text/latex": [
       "$$\\frac{\\sqrt{2}}{2} |00\\rangle- \\frac{\\sqrt{2}}{2} |10\\rangle$$"
      ],
      "text/plain": [
       "<IPython.core.display.Latex object>"
      ]
     },
     "metadata": {},
     "output_type": "display_data"
    },
    {
     "name": "stdout",
     "output_type": "stream",
     "text": [
      "\n",
      "---- CNOT(H|1> x |0>)-----------------------------\n",
      "\n"
     ]
    },
    {
     "data": {
      "text/latex": [
       "$$\\frac{\\sqrt{2}}{2} |00\\rangle- \\frac{\\sqrt{2}}{2} |11\\rangle$$"
      ],
      "text/plain": [
       "<IPython.core.display.Latex object>"
      ]
     },
     "metadata": {},
     "output_type": "display_data"
    },
    {
     "name": "stdout",
     "output_type": "stream",
     "text": [
      "\n",
      "---- SHOW CIRCUIT --------------------------------------------------------\n",
      "\n"
     ]
    },
    {
     "data": {
      "image/png": "[encoded data removed]",
      "text/plain": [
       "<PIL.Image.Image image mode=RGB size=358x99>"
      ]
     },
     "metadata": {},
     "output_type": "display_data"
    },
    {
     "name": "stdout",
     "output_type": "stream",
     "text": [
      "\n",
      "---- IBM QPU 1024 SHOTS --------------------------------------------------\n",
      "\n",
      "{'00': 2058, '01': 74, '10': 112, '11': 1756}\n"
     ]
    },
    {
     "data": {
      "image/png": "[encoded data removed]",
      "text/plain": [
       "<Figure size 504x360 with 1 Axes>"
      ]
     },
     "metadata": {},
     "output_type": "display_data"
    }
   ],
   "source": [
    "settings = \"10\"\n",
    "\n",
    "qc, qr, cr, state1, state2  = generating_epr_pair(settings)\n",
    "results_qpu = measurement(qc, qr, cr)\n",
    "\n",
    "output(qc, state1, state2, results_qpu)"
   ]
  },
  {
   "cell_type": "markdown",
   "id": "40fdbeeb",
   "metadata": {},
   "source": [
    "## $ B_{11} $"
   ]
  },
  {
   "cell_type": "markdown",
   "id": "ac306780",
   "metadata": {},
   "source": [
    "\n",
    "$ \\vert 1 \\rangle  \\otimes \\vert 1 \\rangle = \\vert 1 1 \\rangle$\n",
    "\n",
    "$ H \\vert 1 \\rangle  \\otimes \\vert 1 \\rangle = \\frac{1}{\\sqrt{2}} \\big( \\vert 0 \\rangle - \\vert 1 \\rangle \\big) \\otimes \\vert 1 \\rangle = \\frac{1}{\\sqrt{2}} \\big( \\vert 0 1 \\rangle - \\vert 1 1\\rangle \\big) $\n",
    "\n",
    "$ CNOT \\frac{1}{\\sqrt{2}} \\big( \\vert 0 1 \\rangle - \\vert 1 1\\rangle \\big) =  \\frac{1}{\\sqrt{2}} \\big( \\vert 0 1 \\rangle - \\vert 1 0\\rangle \\big) $\n",
    "\n",
    "\n",
    "\n",
    "$$ \\vert B_{11} \\rangle = \\frac{\\vert 0 1 \\rangle - \\vert 1 0 \\rangle}{\\sqrt{2}} =  \\frac{1}{\\sqrt{2}} \n",
    "\n",
    "\\begin{pmatrix}\n",
    "0 \\\\\n",
    "1 \\\\\n",
    "0 \\\\\n",
    "0 \\\\\n",
    "\\end{pmatrix} -\n",
    "\n",
    "\\begin{pmatrix}\n",
    "0 \\\\\n",
    "0 \\\\\n",
    "1 \\\\\n",
    "0 \\\\\n",
    "\\end{pmatrix} =\n",
    "\n",
    "\\begin{pmatrix}\n",
    "0 \\\\\n",
    "\\frac{1}{\\sqrt{2}} \\\\\n",
    "\\frac{-1}{\\sqrt{2}} \\\\\n",
    "0 \\\\\n",
    "\\end{pmatrix}\n",
    "$$"
   ]
  },
  {
   "cell_type": "code",
   "execution_count": 23,
   "id": "cb881dd4",
   "metadata": {},
   "outputs": [
    {
     "name": "stdout",
     "output_type": "stream",
     "text": [
      "Least Busy: ibmq_lima\n",
      "Job Status: job has successfully run\n",
      "\n",
      "---- H|1> x |1> ----------------------------------\n",
      "\n"
     ]
    },
    {
     "data": {
      "text/latex": [
       "$$\\frac{\\sqrt{2}}{2} |01\\rangle- \\frac{\\sqrt{2}}{2} |11\\rangle$$"
      ],
      "text/plain": [
       "<IPython.core.display.Latex object>"
      ]
     },
     "metadata": {},
     "output_type": "display_data"
    },
    {
     "name": "stdout",
     "output_type": "stream",
     "text": [
      "\n",
      "---- CNOT(H|1> x |1>)-----------------------------\n",
      "\n"
     ]
    },
    {
     "data": {
      "text/latex": [
       "$$\\frac{\\sqrt{2}}{2} |01\\rangle- \\frac{\\sqrt{2}}{2} |10\\rangle$$"
      ],
      "text/plain": [
       "<IPython.core.display.Latex object>"
      ]
     },
     "metadata": {},
     "output_type": "display_data"
    },
    {
     "name": "stdout",
     "output_type": "stream",
     "text": [
      "\n",
      "---- SHOW CIRCUIT --------------------------------------------------------\n",
      "\n"
     ]
    },
    {
     "data": {
      "image/png": "[encoded data removed]",
      "text/plain": [
       "<PIL.Image.Image image mode=RGB size=358x99>"
      ]
     },
     "metadata": {},
     "output_type": "display_data"
    },
    {
     "name": "stdout",
     "output_type": "stream",
     "text": [
      "\n",
      "---- IBM QPU 1024 SHOTS --------------------------------------------------\n",
      "\n",
      "{'00': 154, '01': 1946, '10': 1867, '11': 33}\n"
     ]
    },
    {
     "data": {
      "image/png": "[encoded data removed]",
      "text/plain": [
       "<Figure size 504x360 with 1 Axes>"
      ]
     },
     "metadata": {},
     "output_type": "display_data"
    }
   ],
   "source": [
    "settings = \"11\"\n",
    "\n",
    "qc, qr, cr, state1, state2  = generating_epr_pair(settings)\n",
    "results_qpu = measurement(qc, qr, cr)\n",
    "\n",
    "output(qc, state1, state2, results_qpu)"
   ]
  },
  {
   "cell_type": "markdown",
   "id": "177f74c2",
   "metadata": {},
   "source": [
    "#### BIBLIOGRAPHY\n",
    "\n",
    "[1] Qiskit textbook, https://qiskit.org/learn 2021, [Online; accessed: 2021-09-03].\n",
    "\n",
    "[2] Ryszard Horodecki, Paweł Horodecki, Michał Horodecki, and Karol\n",
    "Horodecki, Quantum entanglement, *Rev. Mod. Phys.*, **81**:865-942, Jun 2009.\n",
    "\n",
    "[3] Michel Le Bellac, *Quantum Physics*, Cambridge University Press, Cambridge, 2006.\n",
    "\n",
    "[4] Michel Le Bellac, *Wstęp do informatyki kwantowej*, Wydawnictwo Naukowe PWN, Warszawa, 2011."
   ]
  }
 ],
 "metadata": {
  "kernelspec": {
   "display_name": "Python 3.10.4 64-bit ('3.10.4')",
   "language": "python",
   "name": "python3"
  },
  "language_info": {
   "codemirror_mode": {
    "name": "ipython",
    "version": 3
   },
   "file_extension": ".py",
   "mimetype": "text/x-python",
   "name": "python",
   "nbconvert_exporter": "python",
   "pygments_lexer": "ipython3",
   "version": "3.10.4"
  },
  "vscode": {
   "interpreter": {
    "hash": "be8fe93e4c09d571212f91d85f476e16d5f16431958b804e79e899cbd2299211"
   }
  }
 },
 "nbformat": 4,
 "nbformat_minor": 5
}
