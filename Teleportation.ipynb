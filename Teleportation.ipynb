{
 "cells": [
  {
   "cell_type": "markdown",
   "id": "b055f74d",
   "metadata": {},
   "source": [
    "# QUANTUM TELEPORTATION\n",
    "\n",
    "**Transmitting one qubit using two classical bits (with a classical channel + entanglement).**\n",
    "\n",
    "\n",
    "**1 ebit + 2 bits $ \\succeq $ 1 qubit**\n",
    "\n",
    ">**qubit**: transferring one-qubit quantum system <br />\n",
    "**bit**: transferring one-bit message <br />\n",
    "**ebit**: consuming of bipartite entanglement (contained in a maximally entangled two-qubit state) \n",
    "\n",
    "\n",
    "\n"
   ]
  },
  {
   "cell_type": "markdown",
   "id": "8b4820e2",
   "metadata": {},
   "source": [
    "Alice's qubit\n",
    "\n",
    "$ \\vert A \\rangle = \\vert 0_A \\rangle $ \n",
    "\n",
    "Bob's qubit\n",
    "\n",
    "$ \\vert B \\rangle = \\vert 0_B \\rangle $ \n",
    "\n",
    "A message from Alice to Bob\n",
    "\n",
    "$ \\vert \\Psi \\rangle = \\alpha \\vert 0 \\rangle + \\beta \\vert 1 \\rangle$"
   ]
  },
  {
   "cell_type": "markdown",
   "id": "84482f88",
   "metadata": {},
   "source": [
    "### #1  Generating a EPR Pair\n",
    "\n",
    "$\\vert \\Phi^{+} \\rangle = CX\\big(H \\vert A \\rangle  \\otimes \\vert B \\rangle \\big) $\n",
    "\n",
    "$ H \\vert 0_A \\rangle  \\otimes \\vert 0_B \\rangle = \\frac{1}{\\sqrt{2}} \\big( \\vert 0_A \\rangle + \\vert 1_A \\rangle \\big) \\otimes \\vert 0_B \\rangle = \\frac{1}{\\sqrt{2}} \\big( \\vert 0_A 0_B \\rangle + \\vert 1_A 0_B\\rangle \\big) $\n",
    "\n",
    "$ CX \\frac{1}{\\sqrt{2}} \\big( \\vert 0_A 0_B \\rangle + \\vert 1_A 0_B\\rangle \\big) =  \\frac{1}{\\sqrt{2}} \\big( \\vert 0_A 0_B \\rangle + \\vert 1_A 1_B\\rangle \\big) $ \n",
    "\n",
    "So from now on, Alice and Bob are sharing a pair of entangled qubits that will be used to send a message"
   ]
  },
  {
   "cell_type": "markdown",
   "id": "15c0ad7a",
   "metadata": {},
   "source": [
    "### #2  Manipulations on an unknown quantum state $\\vert \\Psi \\rangle $\n",
    "\n",
    "Alice possesses a qubit that she'll send to Bob. The overall three-qubit state is:\n",
    "\n",
    "$ \\vert \\Psi \\rangle  \\otimes \\vert  \\Phi^{+} \\rangle = \\big( \\alpha \\vert 0 \\rangle + \\beta \\vert 1 \\rangle \\big) \\otimes  \\frac{1}{\\sqrt{2}} \\big( \\vert 0_A 0_B \\rangle + \\vert 1_A 1_B\\rangle \\big) =  \\frac{1}{\\sqrt{2}} \\big(\\alpha \\vert 0_{} 0_A 0_B \\rangle + \\alpha \\vert 0_{} 1_A 1_B \\rangle + \\beta \\vert 1_{} 0_A 0_B \\rangle + \\beta \\vert 1_{} 1_A 1_B \\rangle \\big)$\n",
    "\n",
    "CNOT\n",
    "\n",
    "$ \\frac{1}{\\sqrt{2}} \\big(\\alpha \\vert 0_{} 0_A 0_B \\rangle + \\alpha \\vert 0_{} 1_A 1_B \\rangle + \\beta \\vert 1_{} 1_A 0_B \\rangle + \\beta \\vert 1_{} 0_A 1_B \\rangle \\big) $\n",
    "\n",
    "H\n",
    "\n",
    "$ \\frac{1}{\\sqrt{2}} \\Big( \\frac{\\alpha}{\\sqrt{2}} \\big(\\vert 0 \\rangle + \\vert 1 \\rangle \\big) \\otimes \\vert 0_A 0_B + \\frac{\\alpha}{\\sqrt{2}} \\big(\\vert 0 \\rangle + \\vert 1 \\rangle \\big) \\otimes \\vert 1_A 1_B  +  \\frac{\\beta}{\\sqrt{2}} \\big(\\vert 0 \\rangle - \\vert 1 \\rangle \\big) \\otimes \\vert 1_A 0_B  + \\frac{\\beta}{\\sqrt{2}} \\big(\\vert 0 \\rangle - \\vert 1 \\rangle \\big) \\otimes \\vert 0_A 1_B \\Big) = $\n",
    "\n",
    "$ \\frac{1}{2} \\big( \\alpha \\vert 0_{} 0_A 0_B \\rangle + \\alpha \\vert 1_{} 0_A 0_B \\rangle + \\alpha \\vert 0_{} 1_A 1_B \\rangle + \\alpha \\vert 1_{} 1_A 1_B \\rangle + \\beta \\vert 0_{} 1_A 0_B \\rangle - \\beta \\vert 1_{} 1_A 0_B \\rangle + \\beta \\vert 0_{} 0_A 1_B \\rangle - \\beta \\vert 1_{} 0_A 1_B \\rangle    \\big)  = $\n",
    "\n",
    "$ \\frac{1}{2} \\Big( \\vert 0_{} 0_A \\rangle \\otimes \\big(\\alpha \\vert 0_B \\rangle + \\beta \\vert 1_B \\rangle \\big) + \\vert 0_{} 1_A \\rangle \\otimes \\big(\\alpha \\vert 1_B \\rangle + \\beta \\vert 0_B \\rangle \\big) +  \\vert 1_{} 0_A \\rangle \\otimes \\big(\\alpha \\vert 0_B \\rangle - \\beta \\vert 1_B \\rangle \\big) + \\vert 1_{} 1_A \\rangle \\otimes \\big(\\alpha \\vert 1_B \\rangle - \\beta \\vert 0_B \\rangle \\big)      \\Big) $"
   ]
  },
  {
   "cell_type": "markdown",
   "id": "2c685a72",
   "metadata": {},
   "source": [
    "### #3  Measurement on Alice's qubits\n",
    "\n",
    "When Alice perform measurement on her qubits, she obtains one of four possible results $\\vert 0 0 \\rangle$, $\\vert 0 1 \\rangle$, $\\vert 1 0 \\rangle$ or $\\vert 1 1 \\rangle$ -\n",
    "each outcome has a 25% chance\n",
    "\n",
    "if Alice obtain $\\vert 0 0 \\rangle$ Bob will have  qubit in a quantum state $\\alpha \\vert 1 \\rangle + \\beta \\vert 0 \\rangle$\n",
    "\n",
    "if Alice obtain $\\vert 0 1 \\rangle$ Bob will have  qubit in a quantum state $\\alpha \\vert 0 \\rangle + \\beta \\vert 1 \\rangle$\n",
    "\n",
    "if Alice obtain $\\vert 1 0 \\rangle$ Bob will have  qubit in a quantum state $\\alpha \\vert 0 \\rangle - \\beta \\vert 1 \\rangle$\n",
    "\n",
    "if Alice obtain $\\vert 1 1 \\rangle$ Bob will have  qubit in a quantum state $\\alpha \\vert 1 \\rangle - \\beta \\vert 0 \\rangle$\n",
    "\n",
    "Now, Alice sends her result to Bob using two bits via a classical channel."
   ]
  },
  {
   "cell_type": "markdown",
   "id": "07c36331",
   "metadata": {},
   "source": [
    "### #3  Manipulations on Bob's qubit \n",
    "Alice's measurement result tells Bob which one of four possible unitary transformations has to perform on his qubit.\n"
   ]
  },
  {
   "cell_type": "code",
   "execution_count": 1,
   "id": "471d9006",
   "metadata": {},
   "outputs": [],
   "source": [
    "from qiskit import QuantumCircuit, QuantumRegister, ClassicalRegister, execute\n",
    "\n",
    "from qiskit.quantum_info import Statevector, random_statevector\n",
    "from qiskit.visualization import array_to_latex, plot_bloch_multivector, plot_histogram\n",
    "\n",
    "from qiskit import IBMQ, Aer, transpile, assemble\n",
    "from qiskit.providers.ibmq import least_busy\n",
    "from qiskit.tools.monitor import job_monitor\n",
    "\n",
    "#IBMQ.enable_account(token)\n",
    "IBMQ.load_account()\n",
    "provider = IBMQ.get_provider(hub = 'ibm-q')"
   ]
  },
  {
   "cell_type": "code",
   "execution_count": 8,
   "id": "81dd082b",
   "metadata": {},
   "outputs": [],
   "source": [
    "def generating_epr_pair():\n",
    "        \n",
    "    alice  = QuantumRegister(1, \"alice\")\n",
    "    bob    = QuantumRegister(1, \"bob\")\n",
    "    calice = ClassicalRegister(1,\"calice\")\n",
    "    cbob   = ClassicalRegister(1,\"cbob\")\n",
    "    qc     = QuantumCircuit(alice, bob, calice, cbob)\n",
    "    \n",
    "    qc.h(alice) #Hadamard Gate\n",
    "    qc.cx(alice, bob) #CNOT Gate\n",
    "    \n",
    "    state = Statevector(qc)\n",
    "    \n",
    "    return qc, alice, bob, calice, cbob, state\n",
    "\n",
    "def generating_psi(qc):\n",
    "    \n",
    "    psi = QuantumRegister(1, \"psi\")\n",
    "    cpsi = ClassicalRegister(1,\"cpsi\")\n",
    "    \n",
    "    qc.add_register(psi, cpsi)\n",
    "\n",
    "    qc.barrier()\n",
    "    \n",
    "    state = Statevector(qc)\n",
    "    \n",
    "    return qc, psi, cpsi, state \n",
    "\n",
    "def alice_operations(qc, psi, alice):\n",
    "        \n",
    "    qc.cx(psi, alice) #CNOT Gate\n",
    "    qc.h(psi) #Hadamard Gate\n",
    "    \n",
    "    qc.barrier()\n",
    "\n",
    "    \n",
    "    state = Statevector(qc)\n",
    "    \n",
    "    return qc, state\n",
    "\n",
    "\n",
    "#def measurement_alice(qc, psi, alice):\n",
    "#return qc\n",
    "\n",
    "\n",
    "\n",
    "def measurement_bob(qc, psi, alice, bob):\n",
    "    \n",
    "    qc.measure(psi, cpsi[0])\n",
    "    qc.measure(alice, calice[0])\n",
    "\n",
    "    \n",
    "    qc.measure(bob, cbob[0])\n",
    "    \n",
    "\n",
    "    aer_sim = Aer.get_backend('aer_simulator')\n",
    "    qobj = assemble(qc)\n",
    "    result = aer_sim.run(qobj).result()\n",
    "    counts = result.get_counts(qc)\n",
    "    return counts\n",
    "\n",
    "\n",
    "def output(qc, state1, state2, state3, counts):\n",
    "    print(\"\\n---- STATE1  -------------------------------------------\\n\")\n",
    "    display(array_to_latex(state1, prefix=\"|A \\\\rangle \\\\otimes |B \\\\rangle =\"))\n",
    "\n",
    "    print(\"\\n---- STATE2 ---------------------------------------------\\n\")\n",
    "    display(array_to_latex(state2, prefix=\"|A \\\\rangle \\\\otimes |B \\\\rangle \\\\otimes |\\\\psi \\\\rangle =\"))\n",
    "    \n",
    "    print(\"\\n---- STATE3 ---------------------------------------------\\n\")\n",
    "    display(array_to_latex(state3, prefix=\"|A \\\\rangle \\\\otimes |B \\\\rangle \\\\otimes |\\\\psi \\\\rangle =\"))\n",
    "\n",
    "\n",
    "\n",
    "    print(\"\\n---- SHOW CIRCUIT --------------------------------------\\n\")\n",
    "    display(qc.draw(output='mpl'))\n",
    "    \n",
    "\n",
    "    print(\"\\n---- IBM QPU 1024 SHOTS --------------------------------\\n\")\n",
    "    plot_histogram(counts)\n",
    "    print(counts)"
   ]
  },
  {
   "cell_type": "code",
   "execution_count": 9,
   "id": "25e979a5",
   "metadata": {},
   "outputs": [
    {
     "name": "stdout",
     "output_type": "stream",
     "text": [
      "\n",
      "---- STATE1  -------------------------------------------\n",
      "\n"
     ]
    },
    {
     "data": {
      "text/latex": [
       "$$\n",
       "|A \\rangle \\otimes |B \\rangle =\n",
       "\\begin{bmatrix}\n",
       "\\tfrac{1}{\\sqrt{2}} & 0 & 0 & \\tfrac{1}{\\sqrt{2}}  \\\\\n",
       " \\end{bmatrix}\n",
       "$$"
      ],
      "text/plain": [
       "<IPython.core.display.Latex object>"
      ]
     },
     "metadata": {},
     "output_type": "display_data"
    },
    {
     "name": "stdout",
     "output_type": "stream",
     "text": [
      "\n",
      "---- STATE2 ---------------------------------------------\n",
      "\n"
     ]
    },
    {
     "data": {
      "text/latex": [
       "$$\n",
       "|A \\rangle \\otimes |B \\rangle \\otimes |\\psi \\rangle =\n",
       "\\begin{bmatrix}\n",
       "\\tfrac{1}{\\sqrt{2}} & 0 & 0 & \\tfrac{1}{\\sqrt{2}} & 0 & 0 & 0 & 0  \\\\\n",
       " \\end{bmatrix}\n",
       "$$"
      ],
      "text/plain": [
       "<IPython.core.display.Latex object>"
      ]
     },
     "metadata": {},
     "output_type": "display_data"
    },
    {
     "name": "stdout",
     "output_type": "stream",
     "text": [
      "\n",
      "---- STATE3 ---------------------------------------------\n",
      "\n"
     ]
    },
    {
     "data": {
      "text/latex": [
       "$$\n",
       "|A \\rangle \\otimes |B \\rangle \\otimes |\\psi \\rangle =\n",
       "\\begin{bmatrix}\n",
       "\\tfrac{1}{2} & 0 & 0 & \\tfrac{1}{2} & \\tfrac{1}{2} & 0 & 0 & \\tfrac{1}{2}  \\\\\n",
       " \\end{bmatrix}\n",
       "$$"
      ],
      "text/plain": [
       "<IPython.core.display.Latex object>"
      ]
     },
     "metadata": {},
     "output_type": "display_data"
    },
    {
     "name": "stdout",
     "output_type": "stream",
     "text": [
      "\n",
      "---- SHOW CIRCUIT --------------------------------------\n",
      "\n"
     ]
    },
    {
     "data": {
      "image/png": "[encoded data removed]",
      "text/plain": [
       "<Figure size 663.871x385.28 with 1 Axes>"
      ]
     },
     "metadata": {},
     "output_type": "display_data"
    },
    {
     "name": "stdout",
     "output_type": "stream",
     "text": [
      "\n",
      "---- IBM QPU 1024 SHOTS --------------------------------\n",
      "\n",
      "{'1 0 0': 245, '0 1 1': 259, '0 0 0': 259, '1 1 1': 261}\n"
     ]
    },
    {
     "data": {
      "image/png": "[encoded data removed]",
      "text/plain": [
       "<Figure size 663.871x385.28 with 1 Axes>"
      ]
     },
     "metadata": {},
     "output_type": "display_data"
    },
    {
     "data": {
      "image/png": "[encoded data removed]",
      "text/plain": [
       "<Figure size 504x360 with 1 Axes>"
      ]
     },
     "metadata": {
      "needs_background": "light"
     },
     "output_type": "display_data"
    }
   ],
   "source": [
    "qc, alice, bob, calice, cbob, state1 = generating_epr_pair()\n",
    "qc, psi, cpsi, state2                = generating_psi(qc)\n",
    "qc, state3               = alice_operations(qc, psi, alice)\n",
    "\n",
    "#measurement_alice(qc, psi, alice)\n",
    "\n",
    "counts = measurement_bob(qc, psi, alice, bob)\n",
    "\n",
    "output(qc, state1, state2, state3, counts)\n"
   ]
  },
  {
   "cell_type": "code",
   "execution_count": null,
   "id": "797880e3",
   "metadata": {},
   "outputs": [],
   "source": []
  },
  {
   "cell_type": "code",
   "execution_count": null,
   "id": "c7f7cf4c",
   "metadata": {},
   "outputs": [],
   "source": []
  }
 ],
 "metadata": {
  "kernelspec": {
   "display_name": "Python 3 (ipykernel)",
   "language": "python",
   "name": "python3"
  },
  "language_info": {
   "codemirror_mode": {
    "name": "ipython",
    "version": 3
   },
   "file_extension": ".py",
   "mimetype": "text/x-python",
   "name": "python",
   "nbconvert_exporter": "python",
   "pygments_lexer": "ipython3",
   "version": "3.8.10"
  }
 },
 "nbformat": 4,
 "nbformat_minor": 5
}
